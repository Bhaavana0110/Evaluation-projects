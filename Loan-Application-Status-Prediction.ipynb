{
 "cells": [
  {
   "cell_type": "markdown",
   "id": "71924a94",
   "metadata": {},
   "source": [
    "   # Loan Application Status Prediction\n",
    "\n",
    "Project Description:\n",
    "\n",
    "This dataset includes details of applicants who have applied for loan. The dataset includes details like credit history, loan amount, their income, dependents etc. \n"
   ]
  },
  {
   "cell_type": "markdown",
   "id": "4b7056de",
   "metadata": {},
   "source": [
    " # Decision Tree Classifier\n",
    " \n",
    " \n",
    " # Step 1: importing necessary libraries and load the data"
   ]
  },
  {
   "cell_type": "code",
   "execution_count": 1,
   "id": "cb14b7d8",
   "metadata": {},
   "outputs": [],
   "source": [
    "#importing the libraries\n",
    "import pandas as pd\n",
    "import numpy as np\n",
    "import seaborn as sns\n",
    "import matplotlib.pyplot as plt\n",
    "%matplotlib inline\n",
    "from sklearn.preprocessing import StandardScaler\n",
    "\n",
    "from sklearn.model_selection import train_test_split, GridSearchCV\n",
    "from statsmodels.stats.outliers_influence import variance_inflation_factor\n",
    "import warnings\n",
    "warnings.filterwarnings('ignore')"
   ]
  },
  {
   "cell_type": "code",
   "execution_count": 2,
   "id": "32690b04",
   "metadata": {},
   "outputs": [
    {
     "data": {
      "text/html": [
       "<div>\n",
       "<style scoped>\n",
       "    .dataframe tbody tr th:only-of-type {\n",
       "        vertical-align: middle;\n",
       "    }\n",
       "\n",
       "    .dataframe tbody tr th {\n",
       "        vertical-align: top;\n",
       "    }\n",
       "\n",
       "    .dataframe thead th {\n",
       "        text-align: right;\n",
       "    }\n",
       "</style>\n",
       "<table border=\"1\" class=\"dataframe\">\n",
       "  <thead>\n",
       "    <tr style=\"text-align: right;\">\n",
       "      <th></th>\n",
       "      <th>Loan_ID</th>\n",
       "      <th>Gender</th>\n",
       "      <th>Married</th>\n",
       "      <th>Dependents</th>\n",
       "      <th>Education</th>\n",
       "      <th>Self_Employed</th>\n",
       "      <th>ApplicantIncome</th>\n",
       "      <th>CoapplicantIncome</th>\n",
       "      <th>LoanAmount</th>\n",
       "      <th>Loan_Amount_Term</th>\n",
       "      <th>Credit_History</th>\n",
       "      <th>Property_Area</th>\n",
       "      <th>Loan_Status</th>\n",
       "    </tr>\n",
       "  </thead>\n",
       "  <tbody>\n",
       "    <tr>\n",
       "      <th>0</th>\n",
       "      <td>LP001002</td>\n",
       "      <td>Male</td>\n",
       "      <td>No</td>\n",
       "      <td>0</td>\n",
       "      <td>Graduate</td>\n",
       "      <td>No</td>\n",
       "      <td>5849</td>\n",
       "      <td>0.0</td>\n",
       "      <td>NaN</td>\n",
       "      <td>360.0</td>\n",
       "      <td>1.0</td>\n",
       "      <td>Urban</td>\n",
       "      <td>Y</td>\n",
       "    </tr>\n",
       "    <tr>\n",
       "      <th>1</th>\n",
       "      <td>LP001003</td>\n",
       "      <td>Male</td>\n",
       "      <td>Yes</td>\n",
       "      <td>1</td>\n",
       "      <td>Graduate</td>\n",
       "      <td>No</td>\n",
       "      <td>4583</td>\n",
       "      <td>1508.0</td>\n",
       "      <td>128.0</td>\n",
       "      <td>360.0</td>\n",
       "      <td>1.0</td>\n",
       "      <td>Rural</td>\n",
       "      <td>N</td>\n",
       "    </tr>\n",
       "    <tr>\n",
       "      <th>2</th>\n",
       "      <td>LP001005</td>\n",
       "      <td>Male</td>\n",
       "      <td>Yes</td>\n",
       "      <td>0</td>\n",
       "      <td>Graduate</td>\n",
       "      <td>Yes</td>\n",
       "      <td>3000</td>\n",
       "      <td>0.0</td>\n",
       "      <td>66.0</td>\n",
       "      <td>360.0</td>\n",
       "      <td>1.0</td>\n",
       "      <td>Urban</td>\n",
       "      <td>Y</td>\n",
       "    </tr>\n",
       "    <tr>\n",
       "      <th>3</th>\n",
       "      <td>LP001006</td>\n",
       "      <td>Male</td>\n",
       "      <td>Yes</td>\n",
       "      <td>0</td>\n",
       "      <td>Not Graduate</td>\n",
       "      <td>No</td>\n",
       "      <td>2583</td>\n",
       "      <td>2358.0</td>\n",
       "      <td>120.0</td>\n",
       "      <td>360.0</td>\n",
       "      <td>1.0</td>\n",
       "      <td>Urban</td>\n",
       "      <td>Y</td>\n",
       "    </tr>\n",
       "    <tr>\n",
       "      <th>4</th>\n",
       "      <td>LP001008</td>\n",
       "      <td>Male</td>\n",
       "      <td>No</td>\n",
       "      <td>0</td>\n",
       "      <td>Graduate</td>\n",
       "      <td>No</td>\n",
       "      <td>6000</td>\n",
       "      <td>0.0</td>\n",
       "      <td>141.0</td>\n",
       "      <td>360.0</td>\n",
       "      <td>1.0</td>\n",
       "      <td>Urban</td>\n",
       "      <td>Y</td>\n",
       "    </tr>\n",
       "    <tr>\n",
       "      <th>...</th>\n",
       "      <td>...</td>\n",
       "      <td>...</td>\n",
       "      <td>...</td>\n",
       "      <td>...</td>\n",
       "      <td>...</td>\n",
       "      <td>...</td>\n",
       "      <td>...</td>\n",
       "      <td>...</td>\n",
       "      <td>...</td>\n",
       "      <td>...</td>\n",
       "      <td>...</td>\n",
       "      <td>...</td>\n",
       "      <td>...</td>\n",
       "    </tr>\n",
       "    <tr>\n",
       "      <th>609</th>\n",
       "      <td>LP002978</td>\n",
       "      <td>Female</td>\n",
       "      <td>No</td>\n",
       "      <td>0</td>\n",
       "      <td>Graduate</td>\n",
       "      <td>No</td>\n",
       "      <td>2900</td>\n",
       "      <td>0.0</td>\n",
       "      <td>71.0</td>\n",
       "      <td>360.0</td>\n",
       "      <td>1.0</td>\n",
       "      <td>Rural</td>\n",
       "      <td>Y</td>\n",
       "    </tr>\n",
       "    <tr>\n",
       "      <th>610</th>\n",
       "      <td>LP002979</td>\n",
       "      <td>Male</td>\n",
       "      <td>Yes</td>\n",
       "      <td>3+</td>\n",
       "      <td>Graduate</td>\n",
       "      <td>No</td>\n",
       "      <td>4106</td>\n",
       "      <td>0.0</td>\n",
       "      <td>40.0</td>\n",
       "      <td>180.0</td>\n",
       "      <td>1.0</td>\n",
       "      <td>Rural</td>\n",
       "      <td>Y</td>\n",
       "    </tr>\n",
       "    <tr>\n",
       "      <th>611</th>\n",
       "      <td>LP002983</td>\n",
       "      <td>Male</td>\n",
       "      <td>Yes</td>\n",
       "      <td>1</td>\n",
       "      <td>Graduate</td>\n",
       "      <td>No</td>\n",
       "      <td>8072</td>\n",
       "      <td>240.0</td>\n",
       "      <td>253.0</td>\n",
       "      <td>360.0</td>\n",
       "      <td>1.0</td>\n",
       "      <td>Urban</td>\n",
       "      <td>Y</td>\n",
       "    </tr>\n",
       "    <tr>\n",
       "      <th>612</th>\n",
       "      <td>LP002984</td>\n",
       "      <td>Male</td>\n",
       "      <td>Yes</td>\n",
       "      <td>2</td>\n",
       "      <td>Graduate</td>\n",
       "      <td>No</td>\n",
       "      <td>7583</td>\n",
       "      <td>0.0</td>\n",
       "      <td>187.0</td>\n",
       "      <td>360.0</td>\n",
       "      <td>1.0</td>\n",
       "      <td>Urban</td>\n",
       "      <td>Y</td>\n",
       "    </tr>\n",
       "    <tr>\n",
       "      <th>613</th>\n",
       "      <td>LP002990</td>\n",
       "      <td>Female</td>\n",
       "      <td>No</td>\n",
       "      <td>0</td>\n",
       "      <td>Graduate</td>\n",
       "      <td>Yes</td>\n",
       "      <td>4583</td>\n",
       "      <td>0.0</td>\n",
       "      <td>133.0</td>\n",
       "      <td>360.0</td>\n",
       "      <td>0.0</td>\n",
       "      <td>Semiurban</td>\n",
       "      <td>N</td>\n",
       "    </tr>\n",
       "  </tbody>\n",
       "</table>\n",
       "<p>614 rows × 13 columns</p>\n",
       "</div>"
      ],
      "text/plain": [
       "      Loan_ID  Gender Married Dependents     Education Self_Employed  \\\n",
       "0    LP001002    Male      No          0      Graduate            No   \n",
       "1    LP001003    Male     Yes          1      Graduate            No   \n",
       "2    LP001005    Male     Yes          0      Graduate           Yes   \n",
       "3    LP001006    Male     Yes          0  Not Graduate            No   \n",
       "4    LP001008    Male      No          0      Graduate            No   \n",
       "..        ...     ...     ...        ...           ...           ...   \n",
       "609  LP002978  Female      No          0      Graduate            No   \n",
       "610  LP002979    Male     Yes         3+      Graduate            No   \n",
       "611  LP002983    Male     Yes          1      Graduate            No   \n",
       "612  LP002984    Male     Yes          2      Graduate            No   \n",
       "613  LP002990  Female      No          0      Graduate           Yes   \n",
       "\n",
       "     ApplicantIncome  CoapplicantIncome  LoanAmount  Loan_Amount_Term  \\\n",
       "0               5849                0.0         NaN             360.0   \n",
       "1               4583             1508.0       128.0             360.0   \n",
       "2               3000                0.0        66.0             360.0   \n",
       "3               2583             2358.0       120.0             360.0   \n",
       "4               6000                0.0       141.0             360.0   \n",
       "..               ...                ...         ...               ...   \n",
       "609             2900                0.0        71.0             360.0   \n",
       "610             4106                0.0        40.0             180.0   \n",
       "611             8072              240.0       253.0             360.0   \n",
       "612             7583                0.0       187.0             360.0   \n",
       "613             4583                0.0       133.0             360.0   \n",
       "\n",
       "     Credit_History Property_Area Loan_Status  \n",
       "0               1.0         Urban           Y  \n",
       "1               1.0         Rural           N  \n",
       "2               1.0         Urban           Y  \n",
       "3               1.0         Urban           Y  \n",
       "4               1.0         Urban           Y  \n",
       "..              ...           ...         ...  \n",
       "609             1.0         Rural           Y  \n",
       "610             1.0         Rural           Y  \n",
       "611             1.0         Urban           Y  \n",
       "612             1.0         Urban           Y  \n",
       "613             0.0     Semiurban           N  \n",
       "\n",
       "[614 rows x 13 columns]"
      ]
     },
     "execution_count": 2,
     "metadata": {},
     "output_type": "execute_result"
    }
   ],
   "source": [
    "#loading the dataset\n",
    "loan=pd.read_csv(r'C:\\Users\\HP\\Desktop\\DSData-master\\loan_prediction.csv')\n",
    "loan"
   ]
  },
  {
   "cell_type": "markdown",
   "id": "79c60012",
   "metadata": {},
   "source": [
    "From the given dataset there are 614 rows and 13 columns are presented. Here Loan Status is my target variable and it is binary classification model.\n",
    "\n",
    "These are variables present in the given datset:\n",
    "\n",
    "1.\tLoan_ID - This refer to the unique identifier of the applicant's affirmed purchases\n",
    "2.\tGender - This refers to either of the two main categories (male and female) into which applicants are divided on the basis of their reproductive functions\n",
    "3.\tMarried - This refers to applicant being in a state of matrimony\n",
    "4.\tDependents - This refres to persons who depends on the applicants for survival\n",
    "5.\tEducation - This refers to number of years in which applicant received systematic instruction, especially at a school or university\n",
    "6.\tSelf_Employed - This refers to applicant working for oneself as a freelancer or the owner of a business rather than for an employer\n",
    "7.\tApplicant Income - This refers to disposable income available for the applicant's use under State law.\n",
    "8.\tCoapplicantIncome - This refers to disposable income available for the people that participate in the loan application process alongside the main applicant use under State law.\n",
    "9.\tLoan_Amount - This refers to the amount of money an applicant owe at any given time.\n",
    "10.\tLoan_Amount_Term - This refers to the duaration in which the loan is availed to the applicant\n",
    "11.\tCredit History - This refers to a record of applicant's ability to repay debts and demonstrated responsibility in repaying them.\n",
    "12.\tProperty_Area - This refers to the total area within the boundaries of the property as set out in Schedule.\n",
    "13.\tLoan_Status - This refres to whether applicant is eligible to be availed the Loan requested.\n",
    "\n"
   ]
  },
  {
   "cell_type": "markdown",
   "id": "f8a27aa1",
   "metadata": {},
   "source": [
    "#  Step 2: Exploratory Data Analysis (EDA) "
   ]
  },
  {
   "cell_type": "code",
   "execution_count": 3,
   "id": "0e45b14f",
   "metadata": {},
   "outputs": [
    {
     "data": {
      "text/plain": [
       "(614, 13)"
      ]
     },
     "execution_count": 3,
     "metadata": {},
     "output_type": "execute_result"
    }
   ],
   "source": [
    "#finding th shape\n",
    "loan.shape"
   ]
  },
  {
   "cell_type": "code",
   "execution_count": 4,
   "id": "c5f6b4e5",
   "metadata": {},
   "outputs": [
    {
     "data": {
      "text/plain": [
       "0      False\n",
       "1      False\n",
       "2      False\n",
       "3      False\n",
       "4      False\n",
       "       ...  \n",
       "609    False\n",
       "610    False\n",
       "611    False\n",
       "612    False\n",
       "613    False\n",
       "Length: 614, dtype: bool"
      ]
     },
     "execution_count": 4,
     "metadata": {},
     "output_type": "execute_result"
    }
   ],
   "source": [
    "#checking the duplicates values\n",
    "loan.duplicated()"
   ]
  },
  {
   "cell_type": "markdown",
   "id": "2e7e340a",
   "metadata": {},
   "source": [
    "yes, there are zero duplicate values."
   ]
  },
  {
   "cell_type": "code",
   "execution_count": 5,
   "id": "c4afad6d",
   "metadata": {},
   "outputs": [
    {
     "data": {
      "text/html": [
       "<div>\n",
       "<style scoped>\n",
       "    .dataframe tbody tr th:only-of-type {\n",
       "        vertical-align: middle;\n",
       "    }\n",
       "\n",
       "    .dataframe tbody tr th {\n",
       "        vertical-align: top;\n",
       "    }\n",
       "\n",
       "    .dataframe thead th {\n",
       "        text-align: right;\n",
       "    }\n",
       "</style>\n",
       "<table border=\"1\" class=\"dataframe\">\n",
       "  <thead>\n",
       "    <tr style=\"text-align: right;\">\n",
       "      <th></th>\n",
       "      <th>Loan_ID</th>\n",
       "      <th>Gender</th>\n",
       "      <th>Married</th>\n",
       "      <th>Dependents</th>\n",
       "      <th>Education</th>\n",
       "      <th>Self_Employed</th>\n",
       "      <th>ApplicantIncome</th>\n",
       "      <th>CoapplicantIncome</th>\n",
       "      <th>LoanAmount</th>\n",
       "      <th>Loan_Amount_Term</th>\n",
       "      <th>Credit_History</th>\n",
       "      <th>Property_Area</th>\n",
       "      <th>Loan_Status</th>\n",
       "    </tr>\n",
       "  </thead>\n",
       "  <tbody>\n",
       "    <tr>\n",
       "      <th>0</th>\n",
       "      <td>LP001002</td>\n",
       "      <td>Male</td>\n",
       "      <td>No</td>\n",
       "      <td>0</td>\n",
       "      <td>Graduate</td>\n",
       "      <td>No</td>\n",
       "      <td>5849</td>\n",
       "      <td>0.0</td>\n",
       "      <td>NaN</td>\n",
       "      <td>360.0</td>\n",
       "      <td>1.0</td>\n",
       "      <td>Urban</td>\n",
       "      <td>Y</td>\n",
       "    </tr>\n",
       "    <tr>\n",
       "      <th>1</th>\n",
       "      <td>LP001003</td>\n",
       "      <td>Male</td>\n",
       "      <td>Yes</td>\n",
       "      <td>1</td>\n",
       "      <td>Graduate</td>\n",
       "      <td>No</td>\n",
       "      <td>4583</td>\n",
       "      <td>1508.0</td>\n",
       "      <td>128.0</td>\n",
       "      <td>360.0</td>\n",
       "      <td>1.0</td>\n",
       "      <td>Rural</td>\n",
       "      <td>N</td>\n",
       "    </tr>\n",
       "    <tr>\n",
       "      <th>2</th>\n",
       "      <td>LP001005</td>\n",
       "      <td>Male</td>\n",
       "      <td>Yes</td>\n",
       "      <td>0</td>\n",
       "      <td>Graduate</td>\n",
       "      <td>Yes</td>\n",
       "      <td>3000</td>\n",
       "      <td>0.0</td>\n",
       "      <td>66.0</td>\n",
       "      <td>360.0</td>\n",
       "      <td>1.0</td>\n",
       "      <td>Urban</td>\n",
       "      <td>Y</td>\n",
       "    </tr>\n",
       "    <tr>\n",
       "      <th>3</th>\n",
       "      <td>LP001006</td>\n",
       "      <td>Male</td>\n",
       "      <td>Yes</td>\n",
       "      <td>0</td>\n",
       "      <td>Not Graduate</td>\n",
       "      <td>No</td>\n",
       "      <td>2583</td>\n",
       "      <td>2358.0</td>\n",
       "      <td>120.0</td>\n",
       "      <td>360.0</td>\n",
       "      <td>1.0</td>\n",
       "      <td>Urban</td>\n",
       "      <td>Y</td>\n",
       "    </tr>\n",
       "    <tr>\n",
       "      <th>4</th>\n",
       "      <td>LP001008</td>\n",
       "      <td>Male</td>\n",
       "      <td>No</td>\n",
       "      <td>0</td>\n",
       "      <td>Graduate</td>\n",
       "      <td>No</td>\n",
       "      <td>6000</td>\n",
       "      <td>0.0</td>\n",
       "      <td>141.0</td>\n",
       "      <td>360.0</td>\n",
       "      <td>1.0</td>\n",
       "      <td>Urban</td>\n",
       "      <td>Y</td>\n",
       "    </tr>\n",
       "  </tbody>\n",
       "</table>\n",
       "</div>"
      ],
      "text/plain": [
       "    Loan_ID Gender Married Dependents     Education Self_Employed  \\\n",
       "0  LP001002   Male      No          0      Graduate            No   \n",
       "1  LP001003   Male     Yes          1      Graduate            No   \n",
       "2  LP001005   Male     Yes          0      Graduate           Yes   \n",
       "3  LP001006   Male     Yes          0  Not Graduate            No   \n",
       "4  LP001008   Male      No          0      Graduate            No   \n",
       "\n",
       "   ApplicantIncome  CoapplicantIncome  LoanAmount  Loan_Amount_Term  \\\n",
       "0             5849                0.0         NaN             360.0   \n",
       "1             4583             1508.0       128.0             360.0   \n",
       "2             3000                0.0        66.0             360.0   \n",
       "3             2583             2358.0       120.0             360.0   \n",
       "4             6000                0.0       141.0             360.0   \n",
       "\n",
       "   Credit_History Property_Area Loan_Status  \n",
       "0             1.0         Urban           Y  \n",
       "1             1.0         Rural           N  \n",
       "2             1.0         Urban           Y  \n",
       "3             1.0         Urban           Y  \n",
       "4             1.0         Urban           Y  "
      ]
     },
     "execution_count": 5,
     "metadata": {},
     "output_type": "execute_result"
    }
   ],
   "source": [
    "loan.head()"
   ]
  },
  {
   "cell_type": "code",
   "execution_count": 6,
   "id": "ef2e10b5",
   "metadata": {},
   "outputs": [
    {
     "data": {
      "text/plain": [
       "Loan_ID               0\n",
       "Gender               13\n",
       "Married               3\n",
       "Dependents           15\n",
       "Education             0\n",
       "Self_Employed        32\n",
       "ApplicantIncome       0\n",
       "CoapplicantIncome     0\n",
       "LoanAmount           22\n",
       "Loan_Amount_Term     14\n",
       "Credit_History       50\n",
       "Property_Area         0\n",
       "Loan_Status           0\n",
       "dtype: int64"
      ]
     },
     "execution_count": 6,
     "metadata": {},
     "output_type": "execute_result"
    }
   ],
   "source": [
    "#checking null values\n",
    "loan.isnull().sum()"
   ]
  },
  {
   "cell_type": "markdown",
   "id": "b0a345f3",
   "metadata": {},
   "source": [
    "here it contains some null values so, have to fill those null values"
   ]
  },
  {
   "cell_type": "code",
   "execution_count": 7,
   "id": "b01218d2",
   "metadata": {},
   "outputs": [
    {
     "data": {
      "text/plain": [
       "Loan_ID              614\n",
       "Gender                 2\n",
       "Married                2\n",
       "Dependents             4\n",
       "Education              2\n",
       "Self_Employed          2\n",
       "ApplicantIncome      505\n",
       "CoapplicantIncome    287\n",
       "LoanAmount           203\n",
       "Loan_Amount_Term      10\n",
       "Credit_History         2\n",
       "Property_Area          3\n",
       "Loan_Status            2\n",
       "dtype: int64"
      ]
     },
     "execution_count": 7,
     "metadata": {},
     "output_type": "execute_result"
    }
   ],
   "source": [
    "#finding the unique values\n",
    "loan.nunique()"
   ]
  },
  {
   "cell_type": "code",
   "execution_count": 8,
   "id": "ddc253ba",
   "metadata": {},
   "outputs": [
    {
     "data": {
      "text/html": [
       "<div>\n",
       "<style scoped>\n",
       "    .dataframe tbody tr th:only-of-type {\n",
       "        vertical-align: middle;\n",
       "    }\n",
       "\n",
       "    .dataframe tbody tr th {\n",
       "        vertical-align: top;\n",
       "    }\n",
       "\n",
       "    .dataframe thead th {\n",
       "        text-align: right;\n",
       "    }\n",
       "</style>\n",
       "<table border=\"1\" class=\"dataframe\">\n",
       "  <thead>\n",
       "    <tr style=\"text-align: right;\">\n",
       "      <th></th>\n",
       "      <th>Gender</th>\n",
       "      <th>Married</th>\n",
       "      <th>Dependents</th>\n",
       "      <th>Education</th>\n",
       "      <th>Self_Employed</th>\n",
       "      <th>ApplicantIncome</th>\n",
       "      <th>CoapplicantIncome</th>\n",
       "      <th>LoanAmount</th>\n",
       "      <th>Loan_Amount_Term</th>\n",
       "      <th>Credit_History</th>\n",
       "      <th>Property_Area</th>\n",
       "      <th>Loan_Status</th>\n",
       "    </tr>\n",
       "    <tr>\n",
       "      <th>Loan_ID</th>\n",
       "      <th></th>\n",
       "      <th></th>\n",
       "      <th></th>\n",
       "      <th></th>\n",
       "      <th></th>\n",
       "      <th></th>\n",
       "      <th></th>\n",
       "      <th></th>\n",
       "      <th></th>\n",
       "      <th></th>\n",
       "      <th></th>\n",
       "      <th></th>\n",
       "    </tr>\n",
       "  </thead>\n",
       "  <tbody>\n",
       "    <tr>\n",
       "      <th>LP001002</th>\n",
       "      <td>Male</td>\n",
       "      <td>No</td>\n",
       "      <td>0</td>\n",
       "      <td>Graduate</td>\n",
       "      <td>No</td>\n",
       "      <td>5849</td>\n",
       "      <td>0.0</td>\n",
       "      <td>NaN</td>\n",
       "      <td>360.0</td>\n",
       "      <td>1.0</td>\n",
       "      <td>Urban</td>\n",
       "      <td>Y</td>\n",
       "    </tr>\n",
       "    <tr>\n",
       "      <th>LP001003</th>\n",
       "      <td>Male</td>\n",
       "      <td>Yes</td>\n",
       "      <td>1</td>\n",
       "      <td>Graduate</td>\n",
       "      <td>No</td>\n",
       "      <td>4583</td>\n",
       "      <td>1508.0</td>\n",
       "      <td>128.0</td>\n",
       "      <td>360.0</td>\n",
       "      <td>1.0</td>\n",
       "      <td>Rural</td>\n",
       "      <td>N</td>\n",
       "    </tr>\n",
       "    <tr>\n",
       "      <th>LP001005</th>\n",
       "      <td>Male</td>\n",
       "      <td>Yes</td>\n",
       "      <td>0</td>\n",
       "      <td>Graduate</td>\n",
       "      <td>Yes</td>\n",
       "      <td>3000</td>\n",
       "      <td>0.0</td>\n",
       "      <td>66.0</td>\n",
       "      <td>360.0</td>\n",
       "      <td>1.0</td>\n",
       "      <td>Urban</td>\n",
       "      <td>Y</td>\n",
       "    </tr>\n",
       "    <tr>\n",
       "      <th>LP001006</th>\n",
       "      <td>Male</td>\n",
       "      <td>Yes</td>\n",
       "      <td>0</td>\n",
       "      <td>Not Graduate</td>\n",
       "      <td>No</td>\n",
       "      <td>2583</td>\n",
       "      <td>2358.0</td>\n",
       "      <td>120.0</td>\n",
       "      <td>360.0</td>\n",
       "      <td>1.0</td>\n",
       "      <td>Urban</td>\n",
       "      <td>Y</td>\n",
       "    </tr>\n",
       "    <tr>\n",
       "      <th>LP001008</th>\n",
       "      <td>Male</td>\n",
       "      <td>No</td>\n",
       "      <td>0</td>\n",
       "      <td>Graduate</td>\n",
       "      <td>No</td>\n",
       "      <td>6000</td>\n",
       "      <td>0.0</td>\n",
       "      <td>141.0</td>\n",
       "      <td>360.0</td>\n",
       "      <td>1.0</td>\n",
       "      <td>Urban</td>\n",
       "      <td>Y</td>\n",
       "    </tr>\n",
       "    <tr>\n",
       "      <th>...</th>\n",
       "      <td>...</td>\n",
       "      <td>...</td>\n",
       "      <td>...</td>\n",
       "      <td>...</td>\n",
       "      <td>...</td>\n",
       "      <td>...</td>\n",
       "      <td>...</td>\n",
       "      <td>...</td>\n",
       "      <td>...</td>\n",
       "      <td>...</td>\n",
       "      <td>...</td>\n",
       "      <td>...</td>\n",
       "    </tr>\n",
       "    <tr>\n",
       "      <th>LP002978</th>\n",
       "      <td>Female</td>\n",
       "      <td>No</td>\n",
       "      <td>0</td>\n",
       "      <td>Graduate</td>\n",
       "      <td>No</td>\n",
       "      <td>2900</td>\n",
       "      <td>0.0</td>\n",
       "      <td>71.0</td>\n",
       "      <td>360.0</td>\n",
       "      <td>1.0</td>\n",
       "      <td>Rural</td>\n",
       "      <td>Y</td>\n",
       "    </tr>\n",
       "    <tr>\n",
       "      <th>LP002979</th>\n",
       "      <td>Male</td>\n",
       "      <td>Yes</td>\n",
       "      <td>3+</td>\n",
       "      <td>Graduate</td>\n",
       "      <td>No</td>\n",
       "      <td>4106</td>\n",
       "      <td>0.0</td>\n",
       "      <td>40.0</td>\n",
       "      <td>180.0</td>\n",
       "      <td>1.0</td>\n",
       "      <td>Rural</td>\n",
       "      <td>Y</td>\n",
       "    </tr>\n",
       "    <tr>\n",
       "      <th>LP002983</th>\n",
       "      <td>Male</td>\n",
       "      <td>Yes</td>\n",
       "      <td>1</td>\n",
       "      <td>Graduate</td>\n",
       "      <td>No</td>\n",
       "      <td>8072</td>\n",
       "      <td>240.0</td>\n",
       "      <td>253.0</td>\n",
       "      <td>360.0</td>\n",
       "      <td>1.0</td>\n",
       "      <td>Urban</td>\n",
       "      <td>Y</td>\n",
       "    </tr>\n",
       "    <tr>\n",
       "      <th>LP002984</th>\n",
       "      <td>Male</td>\n",
       "      <td>Yes</td>\n",
       "      <td>2</td>\n",
       "      <td>Graduate</td>\n",
       "      <td>No</td>\n",
       "      <td>7583</td>\n",
       "      <td>0.0</td>\n",
       "      <td>187.0</td>\n",
       "      <td>360.0</td>\n",
       "      <td>1.0</td>\n",
       "      <td>Urban</td>\n",
       "      <td>Y</td>\n",
       "    </tr>\n",
       "    <tr>\n",
       "      <th>LP002990</th>\n",
       "      <td>Female</td>\n",
       "      <td>No</td>\n",
       "      <td>0</td>\n",
       "      <td>Graduate</td>\n",
       "      <td>Yes</td>\n",
       "      <td>4583</td>\n",
       "      <td>0.0</td>\n",
       "      <td>133.0</td>\n",
       "      <td>360.0</td>\n",
       "      <td>0.0</td>\n",
       "      <td>Semiurban</td>\n",
       "      <td>N</td>\n",
       "    </tr>\n",
       "  </tbody>\n",
       "</table>\n",
       "<p>614 rows × 12 columns</p>\n",
       "</div>"
      ],
      "text/plain": [
       "          Gender Married Dependents     Education Self_Employed  \\\n",
       "Loan_ID                                                           \n",
       "LP001002    Male      No          0      Graduate            No   \n",
       "LP001003    Male     Yes          1      Graduate            No   \n",
       "LP001005    Male     Yes          0      Graduate           Yes   \n",
       "LP001006    Male     Yes          0  Not Graduate            No   \n",
       "LP001008    Male      No          0      Graduate            No   \n",
       "...          ...     ...        ...           ...           ...   \n",
       "LP002978  Female      No          0      Graduate            No   \n",
       "LP002979    Male     Yes         3+      Graduate            No   \n",
       "LP002983    Male     Yes          1      Graduate            No   \n",
       "LP002984    Male     Yes          2      Graduate            No   \n",
       "LP002990  Female      No          0      Graduate           Yes   \n",
       "\n",
       "          ApplicantIncome  CoapplicantIncome  LoanAmount  Loan_Amount_Term  \\\n",
       "Loan_ID                                                                      \n",
       "LP001002             5849                0.0         NaN             360.0   \n",
       "LP001003             4583             1508.0       128.0             360.0   \n",
       "LP001005             3000                0.0        66.0             360.0   \n",
       "LP001006             2583             2358.0       120.0             360.0   \n",
       "LP001008             6000                0.0       141.0             360.0   \n",
       "...                   ...                ...         ...               ...   \n",
       "LP002978             2900                0.0        71.0             360.0   \n",
       "LP002979             4106                0.0        40.0             180.0   \n",
       "LP002983             8072              240.0       253.0             360.0   \n",
       "LP002984             7583                0.0       187.0             360.0   \n",
       "LP002990             4583                0.0       133.0             360.0   \n",
       "\n",
       "          Credit_History Property_Area Loan_Status  \n",
       "Loan_ID                                             \n",
       "LP001002             1.0         Urban           Y  \n",
       "LP001003             1.0         Rural           N  \n",
       "LP001005             1.0         Urban           Y  \n",
       "LP001006             1.0         Urban           Y  \n",
       "LP001008             1.0         Urban           Y  \n",
       "...                  ...           ...         ...  \n",
       "LP002978             1.0         Rural           Y  \n",
       "LP002979             1.0         Rural           Y  \n",
       "LP002983             1.0         Urban           Y  \n",
       "LP002984             1.0         Urban           Y  \n",
       "LP002990             0.0     Semiurban           N  \n",
       "\n",
       "[614 rows x 12 columns]"
      ]
     },
     "execution_count": 8,
     "metadata": {},
     "output_type": "execute_result"
    }
   ],
   "source": [
    "loan=loan.set_index('Loan_ID')\n",
    "loan"
   ]
  },
  {
   "cell_type": "code",
   "execution_count": 9,
   "id": "c08c41b4",
   "metadata": {},
   "outputs": [],
   "source": [
    "categ=['Loan_Amount_Term',\"Dependents\",'Credit_History','Gender','Married','Self_Employed']"
   ]
  },
  {
   "cell_type": "markdown",
   "id": "e83d85c6",
   "metadata": {},
   "source": [
    "To fill those null values first i am spliting the categorical columns for easy calculation."
   ]
  },
  {
   "cell_type": "code",
   "execution_count": 10,
   "id": "e8f444d2",
   "metadata": {},
   "outputs": [],
   "source": [
    "# filling above categorical column null values with mode\n",
    "for p in categ:\n",
    "    loan[p].fillna(loan[p].mode()[0], inplace=True)"
   ]
  },
  {
   "cell_type": "code",
   "execution_count": 11,
   "id": "1d2cdb71",
   "metadata": {},
   "outputs": [],
   "source": [
    "loan['LoanAmount'].fillna(loan['LoanAmount'].mean(), inplace=True)"
   ]
  },
  {
   "cell_type": "code",
   "execution_count": 12,
   "id": "55266499",
   "metadata": {},
   "outputs": [
    {
     "data": {
      "text/plain": [
       "Gender               0\n",
       "Married              0\n",
       "Dependents           0\n",
       "Education            0\n",
       "Self_Employed        0\n",
       "ApplicantIncome      0\n",
       "CoapplicantIncome    0\n",
       "LoanAmount           0\n",
       "Loan_Amount_Term     0\n",
       "Credit_History       0\n",
       "Property_Area        0\n",
       "Loan_Status          0\n",
       "dtype: int64"
      ]
     },
     "execution_count": 12,
     "metadata": {},
     "output_type": "execute_result"
    }
   ],
   "source": [
    "#checking null values\n",
    "loan.isna().sum()"
   ]
  },
  {
   "cell_type": "markdown",
   "id": "660a5eba",
   "metadata": {},
   "source": [
    "Yes, sucessfully there is no null values."
   ]
  },
  {
   "cell_type": "code",
   "execution_count": 13,
   "id": "861b3048",
   "metadata": {},
   "outputs": [
    {
     "data": {
      "image/png": "[encoded data removed]",
      "text/plain": [
       "<Figure size 576x288 with 2 Axes>"
      ]
     },
     "metadata": {
      "needs_background": "light"
     },
     "output_type": "display_data"
    }
   ],
   "source": [
    "#Visualizing null values\n",
    "plt.figure(figsize=[8,4])\n",
    "sns.heatmap(loan.isna())\n",
    "plt.title(\"Null Values\")\n",
    "plt.show()\n"
   ]
  },
  {
   "cell_type": "code",
   "execution_count": 14,
   "id": "9c56f548",
   "metadata": {},
   "outputs": [
    {
     "data": {
      "text/html": [
       "<div>\n",
       "<style scoped>\n",
       "    .dataframe tbody tr th:only-of-type {\n",
       "        vertical-align: middle;\n",
       "    }\n",
       "\n",
       "    .dataframe tbody tr th {\n",
       "        vertical-align: top;\n",
       "    }\n",
       "\n",
       "    .dataframe thead th {\n",
       "        text-align: right;\n",
       "    }\n",
       "</style>\n",
       "<table border=\"1\" class=\"dataframe\">\n",
       "  <thead>\n",
       "    <tr style=\"text-align: right;\">\n",
       "      <th></th>\n",
       "      <th>Gender</th>\n",
       "      <th>Married</th>\n",
       "      <th>Dependents</th>\n",
       "      <th>Education</th>\n",
       "      <th>Self_Employed</th>\n",
       "      <th>ApplicantIncome</th>\n",
       "      <th>CoapplicantIncome</th>\n",
       "      <th>LoanAmount</th>\n",
       "      <th>Loan_Amount_Term</th>\n",
       "      <th>Credit_History</th>\n",
       "      <th>Property_Area</th>\n",
       "      <th>Loan_Status</th>\n",
       "    </tr>\n",
       "    <tr>\n",
       "      <th>Loan_ID</th>\n",
       "      <th></th>\n",
       "      <th></th>\n",
       "      <th></th>\n",
       "      <th></th>\n",
       "      <th></th>\n",
       "      <th></th>\n",
       "      <th></th>\n",
       "      <th></th>\n",
       "      <th></th>\n",
       "      <th></th>\n",
       "      <th></th>\n",
       "      <th></th>\n",
       "    </tr>\n",
       "  </thead>\n",
       "  <tbody>\n",
       "    <tr>\n",
       "      <th>LP001002</th>\n",
       "      <td>Male</td>\n",
       "      <td>No</td>\n",
       "      <td>0</td>\n",
       "      <td>Graduate</td>\n",
       "      <td>No</td>\n",
       "      <td>5849</td>\n",
       "      <td>0.0</td>\n",
       "      <td>146.412162</td>\n",
       "      <td>360.0</td>\n",
       "      <td>1.0</td>\n",
       "      <td>Urban</td>\n",
       "      <td>Y</td>\n",
       "    </tr>\n",
       "    <tr>\n",
       "      <th>LP001003</th>\n",
       "      <td>Male</td>\n",
       "      <td>Yes</td>\n",
       "      <td>1</td>\n",
       "      <td>Graduate</td>\n",
       "      <td>No</td>\n",
       "      <td>4583</td>\n",
       "      <td>1508.0</td>\n",
       "      <td>128.000000</td>\n",
       "      <td>360.0</td>\n",
       "      <td>1.0</td>\n",
       "      <td>Rural</td>\n",
       "      <td>N</td>\n",
       "    </tr>\n",
       "    <tr>\n",
       "      <th>LP001005</th>\n",
       "      <td>Male</td>\n",
       "      <td>Yes</td>\n",
       "      <td>0</td>\n",
       "      <td>Graduate</td>\n",
       "      <td>Yes</td>\n",
       "      <td>3000</td>\n",
       "      <td>0.0</td>\n",
       "      <td>66.000000</td>\n",
       "      <td>360.0</td>\n",
       "      <td>1.0</td>\n",
       "      <td>Urban</td>\n",
       "      <td>Y</td>\n",
       "    </tr>\n",
       "    <tr>\n",
       "      <th>LP001006</th>\n",
       "      <td>Male</td>\n",
       "      <td>Yes</td>\n",
       "      <td>0</td>\n",
       "      <td>Not Graduate</td>\n",
       "      <td>No</td>\n",
       "      <td>2583</td>\n",
       "      <td>2358.0</td>\n",
       "      <td>120.000000</td>\n",
       "      <td>360.0</td>\n",
       "      <td>1.0</td>\n",
       "      <td>Urban</td>\n",
       "      <td>Y</td>\n",
       "    </tr>\n",
       "    <tr>\n",
       "      <th>LP001008</th>\n",
       "      <td>Male</td>\n",
       "      <td>No</td>\n",
       "      <td>0</td>\n",
       "      <td>Graduate</td>\n",
       "      <td>No</td>\n",
       "      <td>6000</td>\n",
       "      <td>0.0</td>\n",
       "      <td>141.000000</td>\n",
       "      <td>360.0</td>\n",
       "      <td>1.0</td>\n",
       "      <td>Urban</td>\n",
       "      <td>Y</td>\n",
       "    </tr>\n",
       "  </tbody>\n",
       "</table>\n",
       "</div>"
      ],
      "text/plain": [
       "         Gender Married Dependents     Education Self_Employed  \\\n",
       "Loan_ID                                                          \n",
       "LP001002   Male      No          0      Graduate            No   \n",
       "LP001003   Male     Yes          1      Graduate            No   \n",
       "LP001005   Male     Yes          0      Graduate           Yes   \n",
       "LP001006   Male     Yes          0  Not Graduate            No   \n",
       "LP001008   Male      No          0      Graduate            No   \n",
       "\n",
       "          ApplicantIncome  CoapplicantIncome  LoanAmount  Loan_Amount_Term  \\\n",
       "Loan_ID                                                                      \n",
       "LP001002             5849                0.0  146.412162             360.0   \n",
       "LP001003             4583             1508.0  128.000000             360.0   \n",
       "LP001005             3000                0.0   66.000000             360.0   \n",
       "LP001006             2583             2358.0  120.000000             360.0   \n",
       "LP001008             6000                0.0  141.000000             360.0   \n",
       "\n",
       "          Credit_History Property_Area Loan_Status  \n",
       "Loan_ID                                             \n",
       "LP001002             1.0         Urban           Y  \n",
       "LP001003             1.0         Rural           N  \n",
       "LP001005             1.0         Urban           Y  \n",
       "LP001006             1.0         Urban           Y  \n",
       "LP001008             1.0         Urban           Y  "
      ]
     },
     "execution_count": 14,
     "metadata": {},
     "output_type": "execute_result"
    }
   ],
   "source": [
    "loan.head()"
   ]
  },
  {
   "cell_type": "code",
   "execution_count": 15,
   "id": "f0ad5ed6",
   "metadata": {},
   "outputs": [
    {
     "name": "stdout",
     "output_type": "stream",
     "text": [
      "<class 'pandas.core.frame.DataFrame'>\n",
      "Index: 614 entries, LP001002 to LP002990\n",
      "Data columns (total 12 columns):\n",
      " #   Column             Non-Null Count  Dtype  \n",
      "---  ------             --------------  -----  \n",
      " 0   Gender             614 non-null    object \n",
      " 1   Married            614 non-null    object \n",
      " 2   Dependents         614 non-null    object \n",
      " 3   Education          614 non-null    object \n",
      " 4   Self_Employed      614 non-null    object \n",
      " 5   ApplicantIncome    614 non-null    int64  \n",
      " 6   CoapplicantIncome  614 non-null    float64\n",
      " 7   LoanAmount         614 non-null    float64\n",
      " 8   Loan_Amount_Term   614 non-null    float64\n",
      " 9   Credit_History     614 non-null    float64\n",
      " 10  Property_Area      614 non-null    object \n",
      " 11  Loan_Status        614 non-null    object \n",
      "dtypes: float64(4), int64(1), object(7)\n",
      "memory usage: 62.4+ KB\n"
     ]
    }
   ],
   "source": [
    "#Getting the normal summary and statistical information of the data\n",
    "loan.info()"
   ]
  },
  {
   "cell_type": "markdown",
   "id": "ed82ff37",
   "metadata": {},
   "source": [
    "It has 4 float64 , 1 int64 and 7 object types data and zero null values."
   ]
  },
  {
   "cell_type": "code",
   "execution_count": 16,
   "id": "9dd3b5dc",
   "metadata": {},
   "outputs": [
    {
     "data": {
      "text/plain": [
       "Gender                object\n",
       "Married               object\n",
       "Dependents            object\n",
       "Education             object\n",
       "Self_Employed         object\n",
       "ApplicantIncome        int64\n",
       "CoapplicantIncome    float64\n",
       "LoanAmount           float64\n",
       "Loan_Amount_Term     float64\n",
       "Credit_History       float64\n",
       "Property_Area         object\n",
       "Loan_Status           object\n",
       "dtype: object"
      ]
     },
     "execution_count": 16,
     "metadata": {},
     "output_type": "execute_result"
    }
   ],
   "source": [
    "#checking datatypes\n",
    "loan.dtypes"
   ]
  },
  {
   "cell_type": "code",
   "execution_count": 17,
   "id": "4d62f430",
   "metadata": {},
   "outputs": [
    {
     "name": "stdout",
     "output_type": "stream",
     "text": [
      "categorical column:  ['Gender', 'Married', 'Dependents', 'Education', 'Self_Employed', 'Property_Area', 'Loan_Status']\n",
      "\n",
      "\n",
      "numerical column:  ['ApplicantIncome', 'CoapplicantIncome', 'LoanAmount', 'Loan_Amount_Term', 'Credit_History']\n",
      "\n",
      "\n"
     ]
    }
   ],
   "source": [
    "#seperating the categorical column and numerical column\n",
    "categorical_col=[]\n",
    "for i in loan.dtypes.index:\n",
    "    if loan.dtypes[i] == \"object\":\n",
    "        categorical_col.append(i)\n",
    "print(\"categorical column: \", categorical_col)\n",
    "print(\"\\n\")\n",
    "\n",
    "numerical_col=[]\n",
    "for i in loan.dtypes.index:\n",
    "    if loan.dtypes[i]!=\"object\":\n",
    "        numerical_col.append(i)\n",
    "print(\"numerical column: \", numerical_col)\n",
    "print(\"\\n\")"
   ]
  },
  {
   "cell_type": "code",
   "execution_count": 18,
   "id": "abad77ef",
   "metadata": {},
   "outputs": [
    {
     "data": {
      "text/html": [
       "<div>\n",
       "<style scoped>\n",
       "    .dataframe tbody tr th:only-of-type {\n",
       "        vertical-align: middle;\n",
       "    }\n",
       "\n",
       "    .dataframe tbody tr th {\n",
       "        vertical-align: top;\n",
       "    }\n",
       "\n",
       "    .dataframe thead th {\n",
       "        text-align: right;\n",
       "    }\n",
       "</style>\n",
       "<table border=\"1\" class=\"dataframe\">\n",
       "  <thead>\n",
       "    <tr style=\"text-align: right;\">\n",
       "      <th></th>\n",
       "      <th>ApplicantIncome</th>\n",
       "      <th>CoapplicantIncome</th>\n",
       "      <th>LoanAmount</th>\n",
       "      <th>Loan_Amount_Term</th>\n",
       "      <th>Credit_History</th>\n",
       "    </tr>\n",
       "  </thead>\n",
       "  <tbody>\n",
       "    <tr>\n",
       "      <th>count</th>\n",
       "      <td>614.000000</td>\n",
       "      <td>614.000000</td>\n",
       "      <td>614.000000</td>\n",
       "      <td>614.000000</td>\n",
       "      <td>614.000000</td>\n",
       "    </tr>\n",
       "    <tr>\n",
       "      <th>mean</th>\n",
       "      <td>5403.459283</td>\n",
       "      <td>1621.245798</td>\n",
       "      <td>146.412162</td>\n",
       "      <td>342.410423</td>\n",
       "      <td>0.855049</td>\n",
       "    </tr>\n",
       "    <tr>\n",
       "      <th>std</th>\n",
       "      <td>6109.041673</td>\n",
       "      <td>2926.248369</td>\n",
       "      <td>84.037468</td>\n",
       "      <td>64.428629</td>\n",
       "      <td>0.352339</td>\n",
       "    </tr>\n",
       "    <tr>\n",
       "      <th>min</th>\n",
       "      <td>150.000000</td>\n",
       "      <td>0.000000</td>\n",
       "      <td>9.000000</td>\n",
       "      <td>12.000000</td>\n",
       "      <td>0.000000</td>\n",
       "    </tr>\n",
       "    <tr>\n",
       "      <th>25%</th>\n",
       "      <td>2877.500000</td>\n",
       "      <td>0.000000</td>\n",
       "      <td>100.250000</td>\n",
       "      <td>360.000000</td>\n",
       "      <td>1.000000</td>\n",
       "    </tr>\n",
       "    <tr>\n",
       "      <th>50%</th>\n",
       "      <td>3812.500000</td>\n",
       "      <td>1188.500000</td>\n",
       "      <td>129.000000</td>\n",
       "      <td>360.000000</td>\n",
       "      <td>1.000000</td>\n",
       "    </tr>\n",
       "    <tr>\n",
       "      <th>75%</th>\n",
       "      <td>5795.000000</td>\n",
       "      <td>2297.250000</td>\n",
       "      <td>164.750000</td>\n",
       "      <td>360.000000</td>\n",
       "      <td>1.000000</td>\n",
       "    </tr>\n",
       "    <tr>\n",
       "      <th>max</th>\n",
       "      <td>81000.000000</td>\n",
       "      <td>41667.000000</td>\n",
       "      <td>700.000000</td>\n",
       "      <td>480.000000</td>\n",
       "      <td>1.000000</td>\n",
       "    </tr>\n",
       "  </tbody>\n",
       "</table>\n",
       "</div>"
      ],
      "text/plain": [
       "       ApplicantIncome  CoapplicantIncome  LoanAmount  Loan_Amount_Term  \\\n",
       "count       614.000000         614.000000  614.000000        614.000000   \n",
       "mean       5403.459283        1621.245798  146.412162        342.410423   \n",
       "std        6109.041673        2926.248369   84.037468         64.428629   \n",
       "min         150.000000           0.000000    9.000000         12.000000   \n",
       "25%        2877.500000           0.000000  100.250000        360.000000   \n",
       "50%        3812.500000        1188.500000  129.000000        360.000000   \n",
       "75%        5795.000000        2297.250000  164.750000        360.000000   \n",
       "max       81000.000000       41667.000000  700.000000        480.000000   \n",
       "\n",
       "       Credit_History  \n",
       "count      614.000000  \n",
       "mean         0.855049  \n",
       "std          0.352339  \n",
       "min          0.000000  \n",
       "25%          1.000000  \n",
       "50%          1.000000  \n",
       "75%          1.000000  \n",
       "max          1.000000  "
      ]
     },
     "execution_count": 18,
     "metadata": {},
     "output_type": "execute_result"
    }
   ],
   "source": [
    "loan.describe()"
   ]
  },
  {
   "cell_type": "markdown",
   "id": "adf20969",
   "metadata": {},
   "source": [
    "As per my observation, the value count is same in all the columns which indicates no missing data.\n",
    "The difference between the mean and standard devaition of each is not very less.\n",
    "The mean value is less than std value for Applicantincome and coapplicantincome column.\n",
    "The mean value is more than 50% of median in all columns so, there will skewness problem.\n",
    "Also we can have min, 75%, max values."
   ]
  },
  {
   "cell_type": "markdown",
   "id": "73dafe99",
   "metadata": {},
   "source": [
    "# Step 3: Visualization\n",
    "\n",
    "# Univariate Analysis: "
   ]
  },
  {
   "cell_type": "code",
   "execution_count": 19,
   "id": "da0f5923",
   "metadata": {},
   "outputs": [
    {
     "data": {
      "image/png": "[encoded data removed]",
      "text/plain": [
       "<Figure size 288x216 with 1 Axes>"
      ]
     },
     "metadata": {
      "needs_background": "light"
     },
     "output_type": "display_data"
    },
    {
     "data": {
      "image/png": "[encoded data removed]",
      "text/plain": [
       "<Figure size 288x216 with 1 Axes>"
      ]
     },
     "metadata": {
      "needs_background": "light"
     },
     "output_type": "display_data"
    },
    {
     "data": {
      "image/png": "[encoded data removed]",
      "text/plain": [
       "<Figure size 288x216 with 1 Axes>"
      ]
     },
     "metadata": {
      "needs_background": "light"
     },
     "output_type": "display_data"
    },
    {
     "data": {
      "image/png": "[encoded data removed]",
      "text/plain": [
       "<Figure size 288x216 with 1 Axes>"
      ]
     },
     "metadata": {
      "needs_background": "light"
     },
     "output_type": "display_data"
    },
    {
     "data": {
      "image/png": "[encoded data removed]",
      "text/plain": [
       "<Figure size 288x216 with 1 Axes>"
      ]
     },
     "metadata": {
      "needs_background": "light"
     },
     "output_type": "display_data"
    }
   ],
   "source": [
    "#distribution plot for numerical columns\n",
    "for k in loan[numerical_col]:              \n",
    "    plt.figure(figsize = (4, 3))\n",
    "    sns.distplot(loan[k], bins = 24)\n",
    "    plt.title(k)\n",
    "    plt.show()"
   ]
  },
  {
   "cell_type": "code",
   "execution_count": 20,
   "id": "83e0f263",
   "metadata": {},
   "outputs": [
    {
     "data": {
      "text/plain": [
       "<AxesSubplot:xlabel='Loan_Status', ylabel='count'>"
      ]
     },
     "execution_count": 20,
     "metadata": {},
     "output_type": "execute_result"
    },
    {
     "data": {
      "image/png": "[encoded data removed]",
      "text/plain": [
       "<Figure size 432x288 with 1 Axes>"
      ]
     },
     "metadata": {
      "needs_background": "light"
     },
     "output_type": "display_data"
    }
   ],
   "source": [
    "sns.countplot(loan.Loan_Status)"
   ]
  },
  {
   "cell_type": "code",
   "execution_count": 21,
   "id": "e18823d6",
   "metadata": {},
   "outputs": [
    {
     "data": {
      "image/png": "[encoded data removed]",
      "text/plain": [
       "<Figure size 432x216 with 1 Axes>"
      ]
     },
     "metadata": {
      "needs_background": "light"
     },
     "output_type": "display_data"
    },
    {
     "data": {
      "image/png": "[encoded data removed]",
      "text/plain": [
       "<Figure size 432x216 with 1 Axes>"
      ]
     },
     "metadata": {
      "needs_background": "light"
     },
     "output_type": "display_data"
    },
    {
     "data": {
      "image/png": "[encoded data removed]",
      "text/plain": [
       "<Figure size 432x216 with 1 Axes>"
      ]
     },
     "metadata": {
      "needs_background": "light"
     },
     "output_type": "display_data"
    },
    {
     "data": {
      "image/png": "[encoded data removed]",
      "text/plain": [
       "<Figure size 432x216 with 1 Axes>"
      ]
     },
     "metadata": {
      "needs_background": "light"
     },
     "output_type": "display_data"
    },
    {
     "data": {
      "image/png": "[encoded data removed]",
      "text/plain": [
       "<Figure size 432x216 with 1 Axes>"
      ]
     },
     "metadata": {
      "needs_background": "light"
     },
     "output_type": "display_data"
    },
    {
     "data": {
      "image/png": "[encoded data removed]",
      "text/plain": [
       "<Figure size 432x216 with 1 Axes>"
      ]
     },
     "metadata": {
      "needs_background": "light"
     },
     "output_type": "display_data"
    },
    {
     "data": {
      "image/png": "[encoded data removed]",
      "text/plain": [
       "<Figure size 432x216 with 1 Axes>"
      ]
     },
     "metadata": {
      "needs_background": "light"
     },
     "output_type": "display_data"
    }
   ],
   "source": [
    "#distribution plot for numerical columns\n",
    "for k in loan[categorical_col]:              \n",
    "    plt.figure(figsize = (6, 3))\n",
    "    sns.countplot(loan[k])\n",
    "    plt.title(k)\n",
    "    plt.show()"
   ]
  },
  {
   "cell_type": "markdown",
   "id": "831564f0",
   "metadata": {},
   "source": [
    "# Bivariate Analysis"
   ]
  },
  {
   "cell_type": "code",
   "execution_count": 22,
   "id": "d14e179e",
   "metadata": {},
   "outputs": [
    {
     "data": {
      "image/png": "[encoded data removed]",
      "text/plain": [
       "<Figure size 360x216 with 1 Axes>"
      ]
     },
     "metadata": {
      "needs_background": "light"
     },
     "output_type": "display_data"
    }
   ],
   "source": [
    "plt.figure(figsize=(5,3))\n",
    "sns.barplot(y='ApplicantIncome',x='Loan_Status',data=loan)\n",
    "plt.title(\"Loan_Status with ApplicantIncome\")\n",
    "plt.show()\n"
   ]
  },
  {
   "cell_type": "code",
   "execution_count": 23,
   "id": "a959a4c4",
   "metadata": {},
   "outputs": [
    {
     "data": {
      "image/png": "[encoded data removed]",
      "text/plain": [
       "<Figure size 576x360 with 1 Axes>"
      ]
     },
     "metadata": {
      "needs_background": "light"
     },
     "output_type": "display_data"
    }
   ],
   "source": [
    "plt.figure(figsize=(8,5))\n",
    "sns.barplot(y='CoapplicantIncome',x='Loan_Status',data=loan)\n",
    "plt.title(\"Loan_Status with CoapplicantIncome\")\n",
    "plt.show()"
   ]
  },
  {
   "cell_type": "markdown",
   "id": "0525704b",
   "metadata": {},
   "source": [
    "# Multivariate analysis"
   ]
  },
  {
   "cell_type": "code",
   "execution_count": 24,
   "id": "463ea236",
   "metadata": {},
   "outputs": [
    {
     "data": {
      "text/plain": [
       "<seaborn.axisgrid.PairGrid at 0x226a46d1c70>"
      ]
     },
     "execution_count": 24,
     "metadata": {},
     "output_type": "execute_result"
    },
    {
     "data": {
      "image/png": "[encoded data removed]",
      "text/plain": [
       "<Figure size 968.625x900 with 30 Axes>"
      ]
     },
     "metadata": {
      "needs_background": "light"
     },
     "output_type": "display_data"
    }
   ],
   "source": [
    "#pair ploting for price\n",
    "sns.pairplot(loan,hue='Loan_Status')"
   ]
  },
  {
   "cell_type": "code",
   "execution_count": 25,
   "id": "8d577374",
   "metadata": {},
   "outputs": [
    {
     "data": {
      "image/png": "[encoded data removed]",
      "text/plain": [
       "<Figure size 1800x1584 with 5 Axes>"
      ]
     },
     "metadata": {},
     "output_type": "display_data"
    }
   ],
   "source": [
    "plt.figure(figsize=(25,22),facecolor=\"white\")\n",
    "plotnumber=1\n",
    "for columns in numerical_col:\n",
    "    if plotnumber<=13:\n",
    "    \n",
    "        ax=plt.subplot(5,6,plotnumber)\n",
    "        sns.distplot(loan[columns])\n",
    "        plt.xlabel(columns, fontsize=16)\n",
    "        \n",
    "    plotnumber+=1\n",
    "plt.show()"
   ]
  },
  {
   "cell_type": "code",
   "execution_count": 26,
   "id": "7e52a1e7",
   "metadata": {},
   "outputs": [],
   "source": [
    "from sklearn.preprocessing import LabelEncoder\n",
    "labelencoder=LabelEncoder()\n",
    "for column in loan.columns:\n",
    "    loan[column] = labelencoder.fit_transform(loan[column])"
   ]
  },
  {
   "cell_type": "code",
   "execution_count": 27,
   "id": "0abfe61d",
   "metadata": {},
   "outputs": [
    {
     "data": {
      "text/plain": [
       "Gender               int32\n",
       "Married              int32\n",
       "Dependents           int32\n",
       "Education            int32\n",
       "Self_Employed        int32\n",
       "ApplicantIncome      int64\n",
       "CoapplicantIncome    int64\n",
       "LoanAmount           int64\n",
       "Loan_Amount_Term     int64\n",
       "Credit_History       int64\n",
       "Property_Area        int32\n",
       "Loan_Status          int32\n",
       "dtype: object"
      ]
     },
     "execution_count": 27,
     "metadata": {},
     "output_type": "execute_result"
    }
   ],
   "source": [
    "loan.dtypes"
   ]
  },
  {
   "cell_type": "code",
   "execution_count": 28,
   "id": "d1a757f9",
   "metadata": {},
   "outputs": [
    {
     "data": {
      "text/plain": [
       "<AxesSubplot:>"
      ]
     },
     "execution_count": 28,
     "metadata": {},
     "output_type": "execute_result"
    },
    {
     "data": {
      "image/png": "[encoded data removed]",
      "text/plain": [
       "<Figure size 1800x576 with 1 Axes>"
      ]
     },
     "metadata": {
      "needs_background": "light"
     },
     "output_type": "display_data"
    }
   ],
   "source": [
    "loan.plot(kind='box',fontsize=12,figsize=(25,8),color='r')"
   ]
  },
  {
   "cell_type": "code",
   "execution_count": 29,
   "id": "0fcc99af",
   "metadata": {},
   "outputs": [],
   "source": [
    "# removing outliers using statsmodel\n",
    "from scipy import stats\n",
    "from scipy.stats import zscore\n",
    "data1=loan.drop('Loan_Status', axis=1)\n",
    "z=np.abs(zscore(data1))\n",
    "\n",
    "threshold=3\n",
    "np.where(z>3)\n",
    "data=loan[(z<3).all(axis=1)]"
   ]
  },
  {
   "cell_type": "code",
   "execution_count": 30,
   "id": "385c4c77",
   "metadata": {},
   "outputs": [
    {
     "data": {
      "text/html": [
       "<div>\n",
       "<style scoped>\n",
       "    .dataframe tbody tr th:only-of-type {\n",
       "        vertical-align: middle;\n",
       "    }\n",
       "\n",
       "    .dataframe tbody tr th {\n",
       "        vertical-align: top;\n",
       "    }\n",
       "\n",
       "    .dataframe thead th {\n",
       "        text-align: right;\n",
       "    }\n",
       "</style>\n",
       "<table border=\"1\" class=\"dataframe\">\n",
       "  <thead>\n",
       "    <tr style=\"text-align: right;\">\n",
       "      <th></th>\n",
       "      <th>Gender</th>\n",
       "      <th>Married</th>\n",
       "      <th>Dependents</th>\n",
       "      <th>Education</th>\n",
       "      <th>Self_Employed</th>\n",
       "      <th>ApplicantIncome</th>\n",
       "      <th>CoapplicantIncome</th>\n",
       "      <th>LoanAmount</th>\n",
       "      <th>Loan_Amount_Term</th>\n",
       "      <th>Credit_History</th>\n",
       "      <th>Property_Area</th>\n",
       "      <th>Loan_Status</th>\n",
       "    </tr>\n",
       "    <tr>\n",
       "      <th>Loan_ID</th>\n",
       "      <th></th>\n",
       "      <th></th>\n",
       "      <th></th>\n",
       "      <th></th>\n",
       "      <th></th>\n",
       "      <th></th>\n",
       "      <th></th>\n",
       "      <th></th>\n",
       "      <th></th>\n",
       "      <th></th>\n",
       "      <th></th>\n",
       "      <th></th>\n",
       "    </tr>\n",
       "  </thead>\n",
       "  <tbody>\n",
       "    <tr>\n",
       "      <th>LP001002</th>\n",
       "      <td>1</td>\n",
       "      <td>0</td>\n",
       "      <td>0</td>\n",
       "      <td>0</td>\n",
       "      <td>0</td>\n",
       "      <td>376</td>\n",
       "      <td>0</td>\n",
       "      <td>100</td>\n",
       "      <td>8</td>\n",
       "      <td>1</td>\n",
       "      <td>2</td>\n",
       "      <td>1</td>\n",
       "    </tr>\n",
       "    <tr>\n",
       "      <th>LP001003</th>\n",
       "      <td>1</td>\n",
       "      <td>1</td>\n",
       "      <td>1</td>\n",
       "      <td>0</td>\n",
       "      <td>0</td>\n",
       "      <td>306</td>\n",
       "      <td>60</td>\n",
       "      <td>81</td>\n",
       "      <td>8</td>\n",
       "      <td>1</td>\n",
       "      <td>0</td>\n",
       "      <td>0</td>\n",
       "    </tr>\n",
       "    <tr>\n",
       "      <th>LP001005</th>\n",
       "      <td>1</td>\n",
       "      <td>1</td>\n",
       "      <td>0</td>\n",
       "      <td>0</td>\n",
       "      <td>1</td>\n",
       "      <td>139</td>\n",
       "      <td>0</td>\n",
       "      <td>26</td>\n",
       "      <td>8</td>\n",
       "      <td>1</td>\n",
       "      <td>2</td>\n",
       "      <td>1</td>\n",
       "    </tr>\n",
       "    <tr>\n",
       "      <th>LP001006</th>\n",
       "      <td>1</td>\n",
       "      <td>1</td>\n",
       "      <td>0</td>\n",
       "      <td>1</td>\n",
       "      <td>0</td>\n",
       "      <td>90</td>\n",
       "      <td>160</td>\n",
       "      <td>73</td>\n",
       "      <td>8</td>\n",
       "      <td>1</td>\n",
       "      <td>2</td>\n",
       "      <td>1</td>\n",
       "    </tr>\n",
       "    <tr>\n",
       "      <th>LP001008</th>\n",
       "      <td>1</td>\n",
       "      <td>0</td>\n",
       "      <td>0</td>\n",
       "      <td>0</td>\n",
       "      <td>0</td>\n",
       "      <td>381</td>\n",
       "      <td>0</td>\n",
       "      <td>94</td>\n",
       "      <td>8</td>\n",
       "      <td>1</td>\n",
       "      <td>2</td>\n",
       "      <td>1</td>\n",
       "    </tr>\n",
       "    <tr>\n",
       "      <th>...</th>\n",
       "      <td>...</td>\n",
       "      <td>...</td>\n",
       "      <td>...</td>\n",
       "      <td>...</td>\n",
       "      <td>...</td>\n",
       "      <td>...</td>\n",
       "      <td>...</td>\n",
       "      <td>...</td>\n",
       "      <td>...</td>\n",
       "      <td>...</td>\n",
       "      <td>...</td>\n",
       "      <td>...</td>\n",
       "    </tr>\n",
       "    <tr>\n",
       "      <th>LP002978</th>\n",
       "      <td>0</td>\n",
       "      <td>0</td>\n",
       "      <td>0</td>\n",
       "      <td>0</td>\n",
       "      <td>0</td>\n",
       "      <td>125</td>\n",
       "      <td>0</td>\n",
       "      <td>29</td>\n",
       "      <td>8</td>\n",
       "      <td>1</td>\n",
       "      <td>0</td>\n",
       "      <td>1</td>\n",
       "    </tr>\n",
       "    <tr>\n",
       "      <th>LP002979</th>\n",
       "      <td>1</td>\n",
       "      <td>1</td>\n",
       "      <td>3</td>\n",
       "      <td>0</td>\n",
       "      <td>0</td>\n",
       "      <td>275</td>\n",
       "      <td>0</td>\n",
       "      <td>7</td>\n",
       "      <td>5</td>\n",
       "      <td>1</td>\n",
       "      <td>0</td>\n",
       "      <td>1</td>\n",
       "    </tr>\n",
       "    <tr>\n",
       "      <th>LP002983</th>\n",
       "      <td>1</td>\n",
       "      <td>1</td>\n",
       "      <td>1</td>\n",
       "      <td>0</td>\n",
       "      <td>0</td>\n",
       "      <td>431</td>\n",
       "      <td>3</td>\n",
       "      <td>163</td>\n",
       "      <td>8</td>\n",
       "      <td>1</td>\n",
       "      <td>2</td>\n",
       "      <td>1</td>\n",
       "    </tr>\n",
       "    <tr>\n",
       "      <th>LP002984</th>\n",
       "      <td>1</td>\n",
       "      <td>1</td>\n",
       "      <td>2</td>\n",
       "      <td>0</td>\n",
       "      <td>0</td>\n",
       "      <td>422</td>\n",
       "      <td>0</td>\n",
       "      <td>133</td>\n",
       "      <td>8</td>\n",
       "      <td>1</td>\n",
       "      <td>2</td>\n",
       "      <td>1</td>\n",
       "    </tr>\n",
       "    <tr>\n",
       "      <th>LP002990</th>\n",
       "      <td>0</td>\n",
       "      <td>0</td>\n",
       "      <td>0</td>\n",
       "      <td>0</td>\n",
       "      <td>1</td>\n",
       "      <td>306</td>\n",
       "      <td>0</td>\n",
       "      <td>86</td>\n",
       "      <td>8</td>\n",
       "      <td>0</td>\n",
       "      <td>1</td>\n",
       "      <td>0</td>\n",
       "    </tr>\n",
       "  </tbody>\n",
       "</table>\n",
       "<p>602 rows × 12 columns</p>\n",
       "</div>"
      ],
      "text/plain": [
       "          Gender  Married  Dependents  Education  Self_Employed  \\\n",
       "Loan_ID                                                           \n",
       "LP001002       1        0           0          0              0   \n",
       "LP001003       1        1           1          0              0   \n",
       "LP001005       1        1           0          0              1   \n",
       "LP001006       1        1           0          1              0   \n",
       "LP001008       1        0           0          0              0   \n",
       "...          ...      ...         ...        ...            ...   \n",
       "LP002978       0        0           0          0              0   \n",
       "LP002979       1        1           3          0              0   \n",
       "LP002983       1        1           1          0              0   \n",
       "LP002984       1        1           2          0              0   \n",
       "LP002990       0        0           0          0              1   \n",
       "\n",
       "          ApplicantIncome  CoapplicantIncome  LoanAmount  Loan_Amount_Term  \\\n",
       "Loan_ID                                                                      \n",
       "LP001002              376                  0         100                 8   \n",
       "LP001003              306                 60          81                 8   \n",
       "LP001005              139                  0          26                 8   \n",
       "LP001006               90                160          73                 8   \n",
       "LP001008              381                  0          94                 8   \n",
       "...                   ...                ...         ...               ...   \n",
       "LP002978              125                  0          29                 8   \n",
       "LP002979              275                  0           7                 5   \n",
       "LP002983              431                  3         163                 8   \n",
       "LP002984              422                  0         133                 8   \n",
       "LP002990              306                  0          86                 8   \n",
       "\n",
       "          Credit_History  Property_Area  Loan_Status  \n",
       "Loan_ID                                               \n",
       "LP001002               1              2            1  \n",
       "LP001003               1              0            0  \n",
       "LP001005               1              2            1  \n",
       "LP001006               1              2            1  \n",
       "LP001008               1              2            1  \n",
       "...                  ...            ...          ...  \n",
       "LP002978               1              0            1  \n",
       "LP002979               1              0            1  \n",
       "LP002983               1              2            1  \n",
       "LP002984               1              2            1  \n",
       "LP002990               0              1            0  \n",
       "\n",
       "[602 rows x 12 columns]"
      ]
     },
     "execution_count": 30,
     "metadata": {},
     "output_type": "execute_result"
    }
   ],
   "source": [
    "data"
   ]
  },
  {
   "cell_type": "code",
   "execution_count": 31,
   "id": "f8e102f0",
   "metadata": {},
   "outputs": [
    {
     "data": {
      "text/html": [
       "<div>\n",
       "<style scoped>\n",
       "    .dataframe tbody tr th:only-of-type {\n",
       "        vertical-align: middle;\n",
       "    }\n",
       "\n",
       "    .dataframe tbody tr th {\n",
       "        vertical-align: top;\n",
       "    }\n",
       "\n",
       "    .dataframe thead th {\n",
       "        text-align: right;\n",
       "    }\n",
       "</style>\n",
       "<table border=\"1\" class=\"dataframe\">\n",
       "  <thead>\n",
       "    <tr style=\"text-align: right;\">\n",
       "      <th></th>\n",
       "      <th>Gender</th>\n",
       "      <th>Married</th>\n",
       "      <th>Dependents</th>\n",
       "      <th>Education</th>\n",
       "      <th>Self_Employed</th>\n",
       "      <th>ApplicantIncome</th>\n",
       "      <th>CoapplicantIncome</th>\n",
       "      <th>LoanAmount</th>\n",
       "      <th>Loan_Amount_Term</th>\n",
       "      <th>Credit_History</th>\n",
       "      <th>Property_Area</th>\n",
       "    </tr>\n",
       "    <tr>\n",
       "      <th>Loan_ID</th>\n",
       "      <th></th>\n",
       "      <th></th>\n",
       "      <th></th>\n",
       "      <th></th>\n",
       "      <th></th>\n",
       "      <th></th>\n",
       "      <th></th>\n",
       "      <th></th>\n",
       "      <th></th>\n",
       "      <th></th>\n",
       "      <th></th>\n",
       "    </tr>\n",
       "  </thead>\n",
       "  <tbody>\n",
       "    <tr>\n",
       "      <th>LP001002</th>\n",
       "      <td>0.472343</td>\n",
       "      <td>1.372089</td>\n",
       "      <td>0.737806</td>\n",
       "      <td>0.528362</td>\n",
       "      <td>0.392601</td>\n",
       "      <td>0.898633</td>\n",
       "      <td>0.852357</td>\n",
       "      <td>0.269107</td>\n",
       "      <td>0.299776</td>\n",
       "      <td>0.411733</td>\n",
       "      <td>1.223298</td>\n",
       "    </tr>\n",
       "    <tr>\n",
       "      <th>LP001003</th>\n",
       "      <td>0.472343</td>\n",
       "      <td>0.728816</td>\n",
       "      <td>0.253470</td>\n",
       "      <td>0.528362</td>\n",
       "      <td>0.392601</td>\n",
       "      <td>0.410559</td>\n",
       "      <td>0.204048</td>\n",
       "      <td>0.147259</td>\n",
       "      <td>0.299776</td>\n",
       "      <td>0.411733</td>\n",
       "      <td>1.318513</td>\n",
       "    </tr>\n",
       "    <tr>\n",
       "      <th>LP001005</th>\n",
       "      <td>0.472343</td>\n",
       "      <td>0.728816</td>\n",
       "      <td>0.737806</td>\n",
       "      <td>0.528362</td>\n",
       "      <td>2.547117</td>\n",
       "      <td>0.753846</td>\n",
       "      <td>0.852357</td>\n",
       "      <td>1.352528</td>\n",
       "      <td>0.299776</td>\n",
       "      <td>0.411733</td>\n",
       "      <td>1.223298</td>\n",
       "    </tr>\n",
       "    <tr>\n",
       "      <th>LP001006</th>\n",
       "      <td>0.472343</td>\n",
       "      <td>0.728816</td>\n",
       "      <td>0.737806</td>\n",
       "      <td>1.892641</td>\n",
       "      <td>0.392601</td>\n",
       "      <td>1.095498</td>\n",
       "      <td>0.876466</td>\n",
       "      <td>0.322571</td>\n",
       "      <td>0.299776</td>\n",
       "      <td>0.411733</td>\n",
       "      <td>1.223298</td>\n",
       "    </tr>\n",
       "    <tr>\n",
       "      <th>LP001008</th>\n",
       "      <td>0.472343</td>\n",
       "      <td>1.372089</td>\n",
       "      <td>0.737806</td>\n",
       "      <td>0.528362</td>\n",
       "      <td>0.392601</td>\n",
       "      <td>0.933495</td>\n",
       "      <td>0.852357</td>\n",
       "      <td>0.137623</td>\n",
       "      <td>0.299776</td>\n",
       "      <td>0.411733</td>\n",
       "      <td>1.223298</td>\n",
       "    </tr>\n",
       "    <tr>\n",
       "      <th>...</th>\n",
       "      <td>...</td>\n",
       "      <td>...</td>\n",
       "      <td>...</td>\n",
       "      <td>...</td>\n",
       "      <td>...</td>\n",
       "      <td>...</td>\n",
       "      <td>...</td>\n",
       "      <td>...</td>\n",
       "      <td>...</td>\n",
       "      <td>...</td>\n",
       "      <td>...</td>\n",
       "    </tr>\n",
       "    <tr>\n",
       "      <th>LP002978</th>\n",
       "      <td>2.117107</td>\n",
       "      <td>1.372089</td>\n",
       "      <td>0.737806</td>\n",
       "      <td>0.528362</td>\n",
       "      <td>0.392601</td>\n",
       "      <td>0.851461</td>\n",
       "      <td>0.852357</td>\n",
       "      <td>1.286786</td>\n",
       "      <td>0.299776</td>\n",
       "      <td>0.411733</td>\n",
       "      <td>1.318513</td>\n",
       "    </tr>\n",
       "    <tr>\n",
       "      <th>LP002979</th>\n",
       "      <td>0.472343</td>\n",
       "      <td>0.728816</td>\n",
       "      <td>2.236021</td>\n",
       "      <td>0.528362</td>\n",
       "      <td>0.392601</td>\n",
       "      <td>0.194412</td>\n",
       "      <td>0.852357</td>\n",
       "      <td>1.768894</td>\n",
       "      <td>2.407023</td>\n",
       "      <td>0.411733</td>\n",
       "      <td>1.318513</td>\n",
       "    </tr>\n",
       "    <tr>\n",
       "      <th>LP002983</th>\n",
       "      <td>0.472343</td>\n",
       "      <td>0.728816</td>\n",
       "      <td>0.253470</td>\n",
       "      <td>0.528362</td>\n",
       "      <td>0.392601</td>\n",
       "      <td>1.282119</td>\n",
       "      <td>0.819941</td>\n",
       "      <td>1.649687</td>\n",
       "      <td>0.299776</td>\n",
       "      <td>0.411733</td>\n",
       "      <td>1.223298</td>\n",
       "    </tr>\n",
       "    <tr>\n",
       "      <th>LP002984</th>\n",
       "      <td>0.472343</td>\n",
       "      <td>0.728816</td>\n",
       "      <td>1.244745</td>\n",
       "      <td>0.528362</td>\n",
       "      <td>0.392601</td>\n",
       "      <td>1.219367</td>\n",
       "      <td>0.852357</td>\n",
       "      <td>0.992268</td>\n",
       "      <td>0.299776</td>\n",
       "      <td>0.411733</td>\n",
       "      <td>1.223298</td>\n",
       "    </tr>\n",
       "    <tr>\n",
       "      <th>LP002990</th>\n",
       "      <td>2.117107</td>\n",
       "      <td>1.372089</td>\n",
       "      <td>0.737806</td>\n",
       "      <td>0.528362</td>\n",
       "      <td>2.547117</td>\n",
       "      <td>0.410559</td>\n",
       "      <td>0.852357</td>\n",
       "      <td>0.037689</td>\n",
       "      <td>0.299776</td>\n",
       "      <td>2.428760</td>\n",
       "      <td>0.047607</td>\n",
       "    </tr>\n",
       "  </tbody>\n",
       "</table>\n",
       "<p>614 rows × 11 columns</p>\n",
       "</div>"
      ],
      "text/plain": [
       "            Gender   Married  Dependents  Education  Self_Employed  \\\n",
       "Loan_ID                                                              \n",
       "LP001002  0.472343  1.372089    0.737806   0.528362       0.392601   \n",
       "LP001003  0.472343  0.728816    0.253470   0.528362       0.392601   \n",
       "LP001005  0.472343  0.728816    0.737806   0.528362       2.547117   \n",
       "LP001006  0.472343  0.728816    0.737806   1.892641       0.392601   \n",
       "LP001008  0.472343  1.372089    0.737806   0.528362       0.392601   \n",
       "...            ...       ...         ...        ...            ...   \n",
       "LP002978  2.117107  1.372089    0.737806   0.528362       0.392601   \n",
       "LP002979  0.472343  0.728816    2.236021   0.528362       0.392601   \n",
       "LP002983  0.472343  0.728816    0.253470   0.528362       0.392601   \n",
       "LP002984  0.472343  0.728816    1.244745   0.528362       0.392601   \n",
       "LP002990  2.117107  1.372089    0.737806   0.528362       2.547117   \n",
       "\n",
       "          ApplicantIncome  CoapplicantIncome  LoanAmount  Loan_Amount_Term  \\\n",
       "Loan_ID                                                                      \n",
       "LP001002         0.898633           0.852357    0.269107          0.299776   \n",
       "LP001003         0.410559           0.204048    0.147259          0.299776   \n",
       "LP001005         0.753846           0.852357    1.352528          0.299776   \n",
       "LP001006         1.095498           0.876466    0.322571          0.299776   \n",
       "LP001008         0.933495           0.852357    0.137623          0.299776   \n",
       "...                   ...                ...         ...               ...   \n",
       "LP002978         0.851461           0.852357    1.286786          0.299776   \n",
       "LP002979         0.194412           0.852357    1.768894          2.407023   \n",
       "LP002983         1.282119           0.819941    1.649687          0.299776   \n",
       "LP002984         1.219367           0.852357    0.992268          0.299776   \n",
       "LP002990         0.410559           0.852357    0.037689          0.299776   \n",
       "\n",
       "          Credit_History  Property_Area  \n",
       "Loan_ID                                  \n",
       "LP001002        0.411733       1.223298  \n",
       "LP001003        0.411733       1.318513  \n",
       "LP001005        0.411733       1.223298  \n",
       "LP001006        0.411733       1.223298  \n",
       "LP001008        0.411733       1.223298  \n",
       "...                  ...            ...  \n",
       "LP002978        0.411733       1.318513  \n",
       "LP002979        0.411733       1.318513  \n",
       "LP002983        0.411733       1.223298  \n",
       "LP002984        0.411733       1.223298  \n",
       "LP002990        2.428760       0.047607  \n",
       "\n",
       "[614 rows x 11 columns]"
      ]
     },
     "execution_count": 31,
     "metadata": {},
     "output_type": "execute_result"
    }
   ],
   "source": [
    "z"
   ]
  },
  {
   "cell_type": "code",
   "execution_count": 32,
   "id": "b62c6c71",
   "metadata": {},
   "outputs": [
    {
     "data": {
      "text/plain": [
       "1.9933554817275747"
      ]
     },
     "execution_count": 32,
     "metadata": {},
     "output_type": "execute_result"
    }
   ],
   "source": [
    "loss_data=(614-602)/602*100\n",
    "loss_data"
   ]
  },
  {
   "cell_type": "code",
   "execution_count": 33,
   "id": "eb29f386",
   "metadata": {},
   "outputs": [
    {
     "data": {
      "text/plain": [
       "8.0"
      ]
     },
     "execution_count": 33,
     "metadata": {},
     "output_type": "execute_result"
    }
   ],
   "source": [
    "from scipy import stats \n",
    "IQR = stats.iqr(loan) \n",
    "IQR"
   ]
  },
  {
   "cell_type": "code",
   "execution_count": 34,
   "id": "229a4a2a",
   "metadata": {},
   "outputs": [
    {
     "name": "stdout",
     "output_type": "stream",
     "text": [
      "(199, 12)\n"
     ]
    }
   ],
   "source": [
    "Q1 = loan.quantile(0.25)\n",
    "Q3 = loan.quantile(0.75)\n",
    "loan_out = loan[~((loan < (Q1 - 1.5 * IQR)) |(loan> (Q3 + 1.5 * IQR))).any(axis=1)]\n",
    "print(loan_out.shape)"
   ]
  },
  {
   "cell_type": "code",
   "execution_count": 35,
   "id": "00e64b0b",
   "metadata": {},
   "outputs": [
    {
     "data": {
      "image/png": "[encoded data removed]",
      "text/plain": [
       "<Figure size 1800x1584 with 12 Axes>"
      ]
     },
     "metadata": {},
     "output_type": "display_data"
    }
   ],
   "source": [
    "plt.figure(figsize=(25,22),facecolor=\"white\")\n",
    "plotnumber=1\n",
    "for columns in loan:\n",
    "    if plotnumber<=13:\n",
    "    \n",
    "        ax=plt.subplot(5,6,plotnumber)\n",
    "        sns.distplot(loan[columns])\n",
    "        plt.xlabel(columns, fontsize=16)\n",
    "        \n",
    "    plotnumber+=1\n",
    "plt.show()"
   ]
  },
  {
   "cell_type": "code",
   "execution_count": null,
   "id": "bdc0dbb8",
   "metadata": {},
   "outputs": [],
   "source": []
  },
  {
   "cell_type": "code",
   "execution_count": 36,
   "id": "d774f101",
   "metadata": {
    "scrolled": true
   },
   "outputs": [
    {
     "data": {
      "text/plain": [
       "Gender              -1.646147\n",
       "Married             -0.643625\n",
       "Dependents           1.027516\n",
       "Education            1.372199\n",
       "Self_Employed        2.189792\n",
       "ApplicantIncome      0.037182\n",
       "CoapplicantIncome    0.772613\n",
       "LoanAmount           0.471894\n",
       "Loan_Amount_Term    -2.771730\n",
       "Credit_History      -1.989282\n",
       "Property_Area       -0.058757\n",
       "Loan_Status         -0.803760\n",
       "dtype: float64"
      ]
     },
     "execution_count": 36,
     "metadata": {},
     "output_type": "execute_result"
    }
   ],
   "source": [
    "data.skew()"
   ]
  },
  {
   "cell_type": "code",
   "execution_count": 37,
   "id": "2176fcf7",
   "metadata": {},
   "outputs": [
    {
     "data": {
      "text/html": [
       "<div>\n",
       "<style scoped>\n",
       "    .dataframe tbody tr th:only-of-type {\n",
       "        vertical-align: middle;\n",
       "    }\n",
       "\n",
       "    .dataframe tbody tr th {\n",
       "        vertical-align: top;\n",
       "    }\n",
       "\n",
       "    .dataframe thead th {\n",
       "        text-align: right;\n",
       "    }\n",
       "</style>\n",
       "<table border=\"1\" class=\"dataframe\">\n",
       "  <thead>\n",
       "    <tr style=\"text-align: right;\">\n",
       "      <th></th>\n",
       "      <th>Gender</th>\n",
       "      <th>Married</th>\n",
       "      <th>Dependents</th>\n",
       "      <th>Education</th>\n",
       "      <th>Self_Employed</th>\n",
       "      <th>ApplicantIncome</th>\n",
       "      <th>CoapplicantIncome</th>\n",
       "      <th>LoanAmount</th>\n",
       "      <th>Loan_Amount_Term</th>\n",
       "      <th>Credit_History</th>\n",
       "      <th>Property_Area</th>\n",
       "      <th>Loan_Status</th>\n",
       "    </tr>\n",
       "    <tr>\n",
       "      <th>Loan_ID</th>\n",
       "      <th></th>\n",
       "      <th></th>\n",
       "      <th></th>\n",
       "      <th></th>\n",
       "      <th></th>\n",
       "      <th></th>\n",
       "      <th></th>\n",
       "      <th></th>\n",
       "      <th></th>\n",
       "      <th></th>\n",
       "      <th></th>\n",
       "      <th></th>\n",
       "    </tr>\n",
       "  </thead>\n",
       "  <tbody>\n",
       "    <tr>\n",
       "      <th>LP001002</th>\n",
       "      <td>1</td>\n",
       "      <td>0</td>\n",
       "      <td>0</td>\n",
       "      <td>0</td>\n",
       "      <td>0</td>\n",
       "      <td>376</td>\n",
       "      <td>0</td>\n",
       "      <td>100</td>\n",
       "      <td>8</td>\n",
       "      <td>1</td>\n",
       "      <td>2</td>\n",
       "      <td>1</td>\n",
       "    </tr>\n",
       "    <tr>\n",
       "      <th>LP001003</th>\n",
       "      <td>1</td>\n",
       "      <td>1</td>\n",
       "      <td>1</td>\n",
       "      <td>0</td>\n",
       "      <td>0</td>\n",
       "      <td>306</td>\n",
       "      <td>60</td>\n",
       "      <td>81</td>\n",
       "      <td>8</td>\n",
       "      <td>1</td>\n",
       "      <td>0</td>\n",
       "      <td>0</td>\n",
       "    </tr>\n",
       "    <tr>\n",
       "      <th>LP001005</th>\n",
       "      <td>1</td>\n",
       "      <td>1</td>\n",
       "      <td>0</td>\n",
       "      <td>0</td>\n",
       "      <td>1</td>\n",
       "      <td>139</td>\n",
       "      <td>0</td>\n",
       "      <td>26</td>\n",
       "      <td>8</td>\n",
       "      <td>1</td>\n",
       "      <td>2</td>\n",
       "      <td>1</td>\n",
       "    </tr>\n",
       "    <tr>\n",
       "      <th>LP001006</th>\n",
       "      <td>1</td>\n",
       "      <td>1</td>\n",
       "      <td>0</td>\n",
       "      <td>1</td>\n",
       "      <td>0</td>\n",
       "      <td>90</td>\n",
       "      <td>160</td>\n",
       "      <td>73</td>\n",
       "      <td>8</td>\n",
       "      <td>1</td>\n",
       "      <td>2</td>\n",
       "      <td>1</td>\n",
       "    </tr>\n",
       "    <tr>\n",
       "      <th>LP001008</th>\n",
       "      <td>1</td>\n",
       "      <td>0</td>\n",
       "      <td>0</td>\n",
       "      <td>0</td>\n",
       "      <td>0</td>\n",
       "      <td>381</td>\n",
       "      <td>0</td>\n",
       "      <td>94</td>\n",
       "      <td>8</td>\n",
       "      <td>1</td>\n",
       "      <td>2</td>\n",
       "      <td>1</td>\n",
       "    </tr>\n",
       "  </tbody>\n",
       "</table>\n",
       "</div>"
      ],
      "text/plain": [
       "          Gender  Married  Dependents  Education  Self_Employed  \\\n",
       "Loan_ID                                                           \n",
       "LP001002       1        0           0          0              0   \n",
       "LP001003       1        1           1          0              0   \n",
       "LP001005       1        1           0          0              1   \n",
       "LP001006       1        1           0          1              0   \n",
       "LP001008       1        0           0          0              0   \n",
       "\n",
       "          ApplicantIncome  CoapplicantIncome  LoanAmount  Loan_Amount_Term  \\\n",
       "Loan_ID                                                                      \n",
       "LP001002              376                  0         100                 8   \n",
       "LP001003              306                 60          81                 8   \n",
       "LP001005              139                  0          26                 8   \n",
       "LP001006               90                160          73                 8   \n",
       "LP001008              381                  0          94                 8   \n",
       "\n",
       "          Credit_History  Property_Area  Loan_Status  \n",
       "Loan_ID                                               \n",
       "LP001002               1              2            1  \n",
       "LP001003               1              0            0  \n",
       "LP001005               1              2            1  \n",
       "LP001006               1              2            1  \n",
       "LP001008               1              2            1  "
      ]
     },
     "execution_count": 37,
     "metadata": {},
     "output_type": "execute_result"
    }
   ],
   "source": [
    "data.head()"
   ]
  },
  {
   "cell_type": "code",
   "execution_count": 38,
   "id": "9007f47c",
   "metadata": {},
   "outputs": [
    {
     "data": {
      "text/html": [
       "<div>\n",
       "<style scoped>\n",
       "    .dataframe tbody tr th:only-of-type {\n",
       "        vertical-align: middle;\n",
       "    }\n",
       "\n",
       "    .dataframe tbody tr th {\n",
       "        vertical-align: top;\n",
       "    }\n",
       "\n",
       "    .dataframe thead th {\n",
       "        text-align: right;\n",
       "    }\n",
       "</style>\n",
       "<table border=\"1\" class=\"dataframe\">\n",
       "  <thead>\n",
       "    <tr style=\"text-align: right;\">\n",
       "      <th></th>\n",
       "      <th>Gender</th>\n",
       "      <th>Married</th>\n",
       "      <th>Dependents</th>\n",
       "      <th>Education</th>\n",
       "      <th>Self_Employed</th>\n",
       "      <th>ApplicantIncome</th>\n",
       "      <th>CoapplicantIncome</th>\n",
       "      <th>LoanAmount</th>\n",
       "      <th>Loan_Amount_Term</th>\n",
       "      <th>Credit_History</th>\n",
       "      <th>Property_Area</th>\n",
       "      <th>Loan_Status</th>\n",
       "    </tr>\n",
       "  </thead>\n",
       "  <tbody>\n",
       "    <tr>\n",
       "      <th>Gender</th>\n",
       "      <td>1.000000</td>\n",
       "      <td>0.368486</td>\n",
       "      <td>0.176118</td>\n",
       "      <td>0.041013</td>\n",
       "      <td>-0.007190</td>\n",
       "      <td>0.073710</td>\n",
       "      <td>0.179860</td>\n",
       "      <td>0.158896</td>\n",
       "      <td>-0.089852</td>\n",
       "      <td>0.008932</td>\n",
       "      <td>-0.029178</td>\n",
       "      <td>0.013570</td>\n",
       "    </tr>\n",
       "    <tr>\n",
       "      <th>Married</th>\n",
       "      <td>0.368486</td>\n",
       "      <td>1.000000</td>\n",
       "      <td>0.330451</td>\n",
       "      <td>0.020972</td>\n",
       "      <td>-0.005922</td>\n",
       "      <td>0.007245</td>\n",
       "      <td>0.213575</td>\n",
       "      <td>0.189812</td>\n",
       "      <td>-0.118241</td>\n",
       "      <td>0.010827</td>\n",
       "      <td>0.004181</td>\n",
       "      <td>0.085587</td>\n",
       "    </tr>\n",
       "    <tr>\n",
       "      <th>Dependents</th>\n",
       "      <td>0.176118</td>\n",
       "      <td>0.330451</td>\n",
       "      <td>1.000000</td>\n",
       "      <td>0.056553</td>\n",
       "      <td>0.046854</td>\n",
       "      <td>0.136904</td>\n",
       "      <td>-0.057833</td>\n",
       "      <td>0.163986</td>\n",
       "      <td>-0.105992</td>\n",
       "      <td>-0.042752</td>\n",
       "      <td>-0.003732</td>\n",
       "      <td>0.006068</td>\n",
       "    </tr>\n",
       "    <tr>\n",
       "      <th>Education</th>\n",
       "      <td>0.041013</td>\n",
       "      <td>0.020972</td>\n",
       "      <td>0.056553</td>\n",
       "      <td>1.000000</td>\n",
       "      <td>-0.014201</td>\n",
       "      <td>-0.198063</td>\n",
       "      <td>-0.045837</td>\n",
       "      <td>-0.169241</td>\n",
       "      <td>-0.092725</td>\n",
       "      <td>-0.075231</td>\n",
       "      <td>-0.068258</td>\n",
       "      <td>-0.085635</td>\n",
       "    </tr>\n",
       "    <tr>\n",
       "      <th>Self_Employed</th>\n",
       "      <td>-0.007190</td>\n",
       "      <td>-0.005922</td>\n",
       "      <td>0.046854</td>\n",
       "      <td>-0.014201</td>\n",
       "      <td>1.000000</td>\n",
       "      <td>0.194238</td>\n",
       "      <td>-0.026134</td>\n",
       "      <td>0.126004</td>\n",
       "      <td>-0.005318</td>\n",
       "      <td>-0.004444</td>\n",
       "      <td>-0.028891</td>\n",
       "      <td>-0.012696</td>\n",
       "    </tr>\n",
       "    <tr>\n",
       "      <th>ApplicantIncome</th>\n",
       "      <td>0.073710</td>\n",
       "      <td>0.007245</td>\n",
       "      <td>0.136904</td>\n",
       "      <td>-0.198063</td>\n",
       "      <td>0.194238</td>\n",
       "      <td>1.000000</td>\n",
       "      <td>-0.253251</td>\n",
       "      <td>0.526745</td>\n",
       "      <td>-0.038021</td>\n",
       "      <td>0.039575</td>\n",
       "      <td>-0.060833</td>\n",
       "      <td>-0.002494</td>\n",
       "    </tr>\n",
       "    <tr>\n",
       "      <th>CoapplicantIncome</th>\n",
       "      <td>0.179860</td>\n",
       "      <td>0.213575</td>\n",
       "      <td>-0.057833</td>\n",
       "      <td>-0.045837</td>\n",
       "      <td>-0.026134</td>\n",
       "      <td>-0.253251</td>\n",
       "      <td>1.000000</td>\n",
       "      <td>0.258445</td>\n",
       "      <td>-0.038897</td>\n",
       "      <td>-0.004657</td>\n",
       "      <td>-0.085403</td>\n",
       "      <td>0.009370</td>\n",
       "    </tr>\n",
       "    <tr>\n",
       "      <th>LoanAmount</th>\n",
       "      <td>0.158896</td>\n",
       "      <td>0.189812</td>\n",
       "      <td>0.163986</td>\n",
       "      <td>-0.169241</td>\n",
       "      <td>0.126004</td>\n",
       "      <td>0.526745</td>\n",
       "      <td>0.258445</td>\n",
       "      <td>1.000000</td>\n",
       "      <td>0.020885</td>\n",
       "      <td>0.004185</td>\n",
       "      <td>-0.078437</td>\n",
       "      <td>-0.042732</td>\n",
       "    </tr>\n",
       "    <tr>\n",
       "      <th>Loan_Amount_Term</th>\n",
       "      <td>-0.089852</td>\n",
       "      <td>-0.118241</td>\n",
       "      <td>-0.105992</td>\n",
       "      <td>-0.092725</td>\n",
       "      <td>-0.005318</td>\n",
       "      <td>-0.038021</td>\n",
       "      <td>-0.038897</td>\n",
       "      <td>0.020885</td>\n",
       "      <td>1.000000</td>\n",
       "      <td>0.048856</td>\n",
       "      <td>-0.077896</td>\n",
       "      <td>-0.001415</td>\n",
       "    </tr>\n",
       "    <tr>\n",
       "      <th>Credit_History</th>\n",
       "      <td>0.008932</td>\n",
       "      <td>0.010827</td>\n",
       "      <td>-0.042752</td>\n",
       "      <td>-0.075231</td>\n",
       "      <td>-0.004444</td>\n",
       "      <td>0.039575</td>\n",
       "      <td>-0.004657</td>\n",
       "      <td>0.004185</td>\n",
       "      <td>0.048856</td>\n",
       "      <td>1.000000</td>\n",
       "      <td>-0.000257</td>\n",
       "      <td>0.545127</td>\n",
       "    </tr>\n",
       "    <tr>\n",
       "      <th>Property_Area</th>\n",
       "      <td>-0.029178</td>\n",
       "      <td>0.004181</td>\n",
       "      <td>-0.003732</td>\n",
       "      <td>-0.068258</td>\n",
       "      <td>-0.028891</td>\n",
       "      <td>-0.060833</td>\n",
       "      <td>-0.085403</td>\n",
       "      <td>-0.078437</td>\n",
       "      <td>-0.077896</td>\n",
       "      <td>-0.000257</td>\n",
       "      <td>1.000000</td>\n",
       "      <td>0.023994</td>\n",
       "    </tr>\n",
       "    <tr>\n",
       "      <th>Loan_Status</th>\n",
       "      <td>0.013570</td>\n",
       "      <td>0.085587</td>\n",
       "      <td>0.006068</td>\n",
       "      <td>-0.085635</td>\n",
       "      <td>-0.012696</td>\n",
       "      <td>-0.002494</td>\n",
       "      <td>0.009370</td>\n",
       "      <td>-0.042732</td>\n",
       "      <td>-0.001415</td>\n",
       "      <td>0.545127</td>\n",
       "      <td>0.023994</td>\n",
       "      <td>1.000000</td>\n",
       "    </tr>\n",
       "  </tbody>\n",
       "</table>\n",
       "</div>"
      ],
      "text/plain": [
       "                     Gender   Married  Dependents  Education  Self_Employed  \\\n",
       "Gender             1.000000  0.368486    0.176118   0.041013      -0.007190   \n",
       "Married            0.368486  1.000000    0.330451   0.020972      -0.005922   \n",
       "Dependents         0.176118  0.330451    1.000000   0.056553       0.046854   \n",
       "Education          0.041013  0.020972    0.056553   1.000000      -0.014201   \n",
       "Self_Employed     -0.007190 -0.005922    0.046854  -0.014201       1.000000   \n",
       "ApplicantIncome    0.073710  0.007245    0.136904  -0.198063       0.194238   \n",
       "CoapplicantIncome  0.179860  0.213575   -0.057833  -0.045837      -0.026134   \n",
       "LoanAmount         0.158896  0.189812    0.163986  -0.169241       0.126004   \n",
       "Loan_Amount_Term  -0.089852 -0.118241   -0.105992  -0.092725      -0.005318   \n",
       "Credit_History     0.008932  0.010827   -0.042752  -0.075231      -0.004444   \n",
       "Property_Area     -0.029178  0.004181   -0.003732  -0.068258      -0.028891   \n",
       "Loan_Status        0.013570  0.085587    0.006068  -0.085635      -0.012696   \n",
       "\n",
       "                   ApplicantIncome  CoapplicantIncome  LoanAmount  \\\n",
       "Gender                    0.073710           0.179860    0.158896   \n",
       "Married                   0.007245           0.213575    0.189812   \n",
       "Dependents                0.136904          -0.057833    0.163986   \n",
       "Education                -0.198063          -0.045837   -0.169241   \n",
       "Self_Employed             0.194238          -0.026134    0.126004   \n",
       "ApplicantIncome           1.000000          -0.253251    0.526745   \n",
       "CoapplicantIncome        -0.253251           1.000000    0.258445   \n",
       "LoanAmount                0.526745           0.258445    1.000000   \n",
       "Loan_Amount_Term         -0.038021          -0.038897    0.020885   \n",
       "Credit_History            0.039575          -0.004657    0.004185   \n",
       "Property_Area            -0.060833          -0.085403   -0.078437   \n",
       "Loan_Status              -0.002494           0.009370   -0.042732   \n",
       "\n",
       "                   Loan_Amount_Term  Credit_History  Property_Area  \\\n",
       "Gender                    -0.089852        0.008932      -0.029178   \n",
       "Married                   -0.118241        0.010827       0.004181   \n",
       "Dependents                -0.105992       -0.042752      -0.003732   \n",
       "Education                 -0.092725       -0.075231      -0.068258   \n",
       "Self_Employed             -0.005318       -0.004444      -0.028891   \n",
       "ApplicantIncome           -0.038021        0.039575      -0.060833   \n",
       "CoapplicantIncome         -0.038897       -0.004657      -0.085403   \n",
       "LoanAmount                 0.020885        0.004185      -0.078437   \n",
       "Loan_Amount_Term           1.000000        0.048856      -0.077896   \n",
       "Credit_History             0.048856        1.000000      -0.000257   \n",
       "Property_Area             -0.077896       -0.000257       1.000000   \n",
       "Loan_Status               -0.001415        0.545127       0.023994   \n",
       "\n",
       "                   Loan_Status  \n",
       "Gender                0.013570  \n",
       "Married               0.085587  \n",
       "Dependents            0.006068  \n",
       "Education            -0.085635  \n",
       "Self_Employed        -0.012696  \n",
       "ApplicantIncome      -0.002494  \n",
       "CoapplicantIncome     0.009370  \n",
       "LoanAmount           -0.042732  \n",
       "Loan_Amount_Term     -0.001415  \n",
       "Credit_History        0.545127  \n",
       "Property_Area         0.023994  \n",
       "Loan_Status           1.000000  "
      ]
     },
     "execution_count": 38,
     "metadata": {},
     "output_type": "execute_result"
    }
   ],
   "source": [
    "\n",
    "#corelation b/n features and target variable.\n",
    "corr=data.corr()\n",
    "corr"
   ]
  },
  {
   "cell_type": "code",
   "execution_count": 39,
   "id": "694dc0b0",
   "metadata": {},
   "outputs": [
    {
     "data": {
      "image/png": "[encoded data removed]",
      "text/plain": [
       "<Figure size 1152x576 with 2 Axes>"
      ]
     },
     "metadata": {
      "needs_background": "light"
     },
     "output_type": "display_data"
    }
   ],
   "source": [
    "df_corr=data.corr().abs()\n",
    "plt.figure(figsize=(16,8))\n",
    "sns.heatmap(df_corr, annot=True, linecolor='blue', annot_kws={'size':12},)\n",
    "plt.show()"
   ]
  },
  {
   "cell_type": "code",
   "execution_count": 40,
   "id": "171ada0c",
   "metadata": {},
   "outputs": [
    {
     "data": {
      "image/png": "[encoded data removed]",
      "text/plain": [
       "<Figure size 1440x720 with 1 Axes>"
      ]
     },
     "metadata": {
      "needs_background": "light"
     },
     "output_type": "display_data"
    }
   ],
   "source": [
    "plt.figure(figsize=(20,10))\n",
    "data.corr()['Loan_Status'].sort_values(ascending=False).drop(['Loan_Status']).plot(kind='bar',color='b')\n",
    "plt.xlabel('Features',fontsize=14)\n",
    "plt.ylabel(' target ',fontsize=14)\n",
    "plt.title('correlation',fontsize=18)\n",
    "plt.show()"
   ]
  },
  {
   "cell_type": "code",
   "execution_count": 41,
   "id": "d9c79c0d",
   "metadata": {},
   "outputs": [],
   "source": [
    "data=data.drop('ApplicantIncome', axis=1)"
   ]
  },
  {
   "cell_type": "code",
   "execution_count": 42,
   "id": "60abadb6",
   "metadata": {},
   "outputs": [],
   "source": [
    "#fixing features and label\n",
    "\n",
    "a=data.drop('Loan_Status', axis=1)\n",
    "b=data['Loan_Status']"
   ]
  },
  {
   "cell_type": "code",
   "execution_count": 43,
   "id": "3f8cd024",
   "metadata": {},
   "outputs": [
    {
     "data": {
      "text/html": [
       "<div>\n",
       "<style scoped>\n",
       "    .dataframe tbody tr th:only-of-type {\n",
       "        vertical-align: middle;\n",
       "    }\n",
       "\n",
       "    .dataframe tbody tr th {\n",
       "        vertical-align: top;\n",
       "    }\n",
       "\n",
       "    .dataframe thead th {\n",
       "        text-align: right;\n",
       "    }\n",
       "</style>\n",
       "<table border=\"1\" class=\"dataframe\">\n",
       "  <thead>\n",
       "    <tr style=\"text-align: right;\">\n",
       "      <th></th>\n",
       "      <th>Gender</th>\n",
       "      <th>Married</th>\n",
       "      <th>Dependents</th>\n",
       "      <th>Education</th>\n",
       "      <th>Self_Employed</th>\n",
       "      <th>CoapplicantIncome</th>\n",
       "      <th>LoanAmount</th>\n",
       "      <th>Loan_Amount_Term</th>\n",
       "      <th>Credit_History</th>\n",
       "      <th>Property_Area</th>\n",
       "    </tr>\n",
       "  </thead>\n",
       "  <tbody>\n",
       "    <tr>\n",
       "      <th>0</th>\n",
       "      <td>0.472840</td>\n",
       "      <td>-1.371270</td>\n",
       "      <td>-0.733106</td>\n",
       "      <td>-0.527382</td>\n",
       "      <td>-0.388654</td>\n",
       "      <td>-0.857426</td>\n",
       "      <td>0.258071</td>\n",
       "      <td>0.278328</td>\n",
       "      <td>0.416520</td>\n",
       "      <td>1.227651</td>\n",
       "    </tr>\n",
       "    <tr>\n",
       "      <th>1</th>\n",
       "      <td>0.472840</td>\n",
       "      <td>0.729251</td>\n",
       "      <td>0.258646</td>\n",
       "      <td>-0.527382</td>\n",
       "      <td>-0.388654</td>\n",
       "      <td>-0.208522</td>\n",
       "      <td>-0.159029</td>\n",
       "      <td>0.278328</td>\n",
       "      <td>0.416520</td>\n",
       "      <td>-1.312026</td>\n",
       "    </tr>\n",
       "    <tr>\n",
       "      <th>2</th>\n",
       "      <td>0.472840</td>\n",
       "      <td>0.729251</td>\n",
       "      <td>-0.733106</td>\n",
       "      <td>-0.527382</td>\n",
       "      <td>2.572985</td>\n",
       "      <td>-0.857426</td>\n",
       "      <td>-1.366421</td>\n",
       "      <td>0.278328</td>\n",
       "      <td>0.416520</td>\n",
       "      <td>1.227651</td>\n",
       "    </tr>\n",
       "    <tr>\n",
       "      <th>3</th>\n",
       "      <td>0.472840</td>\n",
       "      <td>0.729251</td>\n",
       "      <td>-0.733106</td>\n",
       "      <td>1.896159</td>\n",
       "      <td>-0.388654</td>\n",
       "      <td>0.872984</td>\n",
       "      <td>-0.334649</td>\n",
       "      <td>0.278328</td>\n",
       "      <td>0.416520</td>\n",
       "      <td>1.227651</td>\n",
       "    </tr>\n",
       "    <tr>\n",
       "      <th>4</th>\n",
       "      <td>0.472840</td>\n",
       "      <td>-1.371270</td>\n",
       "      <td>-0.733106</td>\n",
       "      <td>-0.527382</td>\n",
       "      <td>-0.388654</td>\n",
       "      <td>-0.857426</td>\n",
       "      <td>0.126355</td>\n",
       "      <td>0.278328</td>\n",
       "      <td>0.416520</td>\n",
       "      <td>1.227651</td>\n",
       "    </tr>\n",
       "    <tr>\n",
       "      <th>...</th>\n",
       "      <td>...</td>\n",
       "      <td>...</td>\n",
       "      <td>...</td>\n",
       "      <td>...</td>\n",
       "      <td>...</td>\n",
       "      <td>...</td>\n",
       "      <td>...</td>\n",
       "      <td>...</td>\n",
       "      <td>...</td>\n",
       "      <td>...</td>\n",
       "    </tr>\n",
       "    <tr>\n",
       "      <th>597</th>\n",
       "      <td>-2.114882</td>\n",
       "      <td>-1.371270</td>\n",
       "      <td>-0.733106</td>\n",
       "      <td>-0.527382</td>\n",
       "      <td>-0.388654</td>\n",
       "      <td>-0.857426</td>\n",
       "      <td>-1.300564</td>\n",
       "      <td>0.278328</td>\n",
       "      <td>0.416520</td>\n",
       "      <td>-1.312026</td>\n",
       "    </tr>\n",
       "    <tr>\n",
       "      <th>598</th>\n",
       "      <td>0.472840</td>\n",
       "      <td>0.729251</td>\n",
       "      <td>2.242150</td>\n",
       "      <td>-0.527382</td>\n",
       "      <td>-0.388654</td>\n",
       "      <td>-0.857426</td>\n",
       "      <td>-1.783521</td>\n",
       "      <td>-3.364134</td>\n",
       "      <td>0.416520</td>\n",
       "      <td>-1.312026</td>\n",
       "    </tr>\n",
       "    <tr>\n",
       "      <th>599</th>\n",
       "      <td>0.472840</td>\n",
       "      <td>0.729251</td>\n",
       "      <td>0.258646</td>\n",
       "      <td>-0.527382</td>\n",
       "      <td>-0.388654</td>\n",
       "      <td>-0.824981</td>\n",
       "      <td>1.641084</td>\n",
       "      <td>0.278328</td>\n",
       "      <td>0.416520</td>\n",
       "      <td>1.227651</td>\n",
       "    </tr>\n",
       "    <tr>\n",
       "      <th>600</th>\n",
       "      <td>0.472840</td>\n",
       "      <td>0.729251</td>\n",
       "      <td>1.250398</td>\n",
       "      <td>-0.527382</td>\n",
       "      <td>-0.388654</td>\n",
       "      <td>-0.857426</td>\n",
       "      <td>0.982506</td>\n",
       "      <td>0.278328</td>\n",
       "      <td>0.416520</td>\n",
       "      <td>1.227651</td>\n",
       "    </tr>\n",
       "    <tr>\n",
       "      <th>601</th>\n",
       "      <td>-2.114882</td>\n",
       "      <td>-1.371270</td>\n",
       "      <td>-0.733106</td>\n",
       "      <td>-0.527382</td>\n",
       "      <td>2.572985</td>\n",
       "      <td>-0.857426</td>\n",
       "      <td>-0.049266</td>\n",
       "      <td>0.278328</td>\n",
       "      <td>-2.400843</td>\n",
       "      <td>-0.042187</td>\n",
       "    </tr>\n",
       "  </tbody>\n",
       "</table>\n",
       "<p>602 rows × 10 columns</p>\n",
       "</div>"
      ],
      "text/plain": [
       "       Gender   Married  Dependents  Education  Self_Employed  \\\n",
       "0    0.472840 -1.371270   -0.733106  -0.527382      -0.388654   \n",
       "1    0.472840  0.729251    0.258646  -0.527382      -0.388654   \n",
       "2    0.472840  0.729251   -0.733106  -0.527382       2.572985   \n",
       "3    0.472840  0.729251   -0.733106   1.896159      -0.388654   \n",
       "4    0.472840 -1.371270   -0.733106  -0.527382      -0.388654   \n",
       "..        ...       ...         ...        ...            ...   \n",
       "597 -2.114882 -1.371270   -0.733106  -0.527382      -0.388654   \n",
       "598  0.472840  0.729251    2.242150  -0.527382      -0.388654   \n",
       "599  0.472840  0.729251    0.258646  -0.527382      -0.388654   \n",
       "600  0.472840  0.729251    1.250398  -0.527382      -0.388654   \n",
       "601 -2.114882 -1.371270   -0.733106  -0.527382       2.572985   \n",
       "\n",
       "     CoapplicantIncome  LoanAmount  Loan_Amount_Term  Credit_History  \\\n",
       "0            -0.857426    0.258071          0.278328        0.416520   \n",
       "1            -0.208522   -0.159029          0.278328        0.416520   \n",
       "2            -0.857426   -1.366421          0.278328        0.416520   \n",
       "3             0.872984   -0.334649          0.278328        0.416520   \n",
       "4            -0.857426    0.126355          0.278328        0.416520   \n",
       "..                 ...         ...               ...             ...   \n",
       "597          -0.857426   -1.300564          0.278328        0.416520   \n",
       "598          -0.857426   -1.783521         -3.364134        0.416520   \n",
       "599          -0.824981    1.641084          0.278328        0.416520   \n",
       "600          -0.857426    0.982506          0.278328        0.416520   \n",
       "601          -0.857426   -0.049266          0.278328       -2.400843   \n",
       "\n",
       "     Property_Area  \n",
       "0         1.227651  \n",
       "1        -1.312026  \n",
       "2         1.227651  \n",
       "3         1.227651  \n",
       "4         1.227651  \n",
       "..             ...  \n",
       "597      -1.312026  \n",
       "598      -1.312026  \n",
       "599       1.227651  \n",
       "600       1.227651  \n",
       "601      -0.042187  \n",
       "\n",
       "[602 rows x 10 columns]"
      ]
     },
     "execution_count": 43,
     "metadata": {},
     "output_type": "execute_result"
    }
   ],
   "source": [
    "scaler=StandardScaler()\n",
    "\n",
    "x_scaled=scaler.fit_transform(a)\n",
    "x_scaled\n",
    "a=pd.DataFrame(scaler.fit_transform(a),columns=a.columns)\n",
    "a"
   ]
  },
  {
   "cell_type": "code",
   "execution_count": 44,
   "id": "2c0d18e7",
   "metadata": {},
   "outputs": [
    {
     "data": {
      "text/plain": [
       "array([[ 0.47283955, -1.3712705 , -0.73310572, ...,  0.27832765,\n",
       "         0.41652044,  1.22765141],\n",
       "       [ 0.47283955,  0.72925072,  0.25864629, ...,  0.27832765,\n",
       "         0.41652044, -1.31202608],\n",
       "       [ 0.47283955,  0.72925072, -0.73310572, ...,  0.27832765,\n",
       "         0.41652044,  1.22765141],\n",
       "       ...,\n",
       "       [ 0.47283955,  0.72925072,  0.25864629, ...,  0.27832765,\n",
       "         0.41652044,  1.22765141],\n",
       "       [ 0.47283955,  0.72925072,  1.25039829, ...,  0.27832765,\n",
       "         0.41652044,  1.22765141],\n",
       "       [-2.11488233, -1.3712705 , -0.73310572, ...,  0.27832765,\n",
       "        -2.40084255, -0.04218733]])"
      ]
     },
     "execution_count": 44,
     "metadata": {},
     "output_type": "execute_result"
    }
   ],
   "source": [
    "x_scaled"
   ]
  },
  {
   "cell_type": "code",
   "execution_count": 45,
   "id": "d460f437",
   "metadata": {},
   "outputs": [
    {
     "data": {
      "text/html": [
       "<div>\n",
       "<style scoped>\n",
       "    .dataframe tbody tr th:only-of-type {\n",
       "        vertical-align: middle;\n",
       "    }\n",
       "\n",
       "    .dataframe tbody tr th {\n",
       "        vertical-align: top;\n",
       "    }\n",
       "\n",
       "    .dataframe thead th {\n",
       "        text-align: right;\n",
       "    }\n",
       "</style>\n",
       "<table border=\"1\" class=\"dataframe\">\n",
       "  <thead>\n",
       "    <tr style=\"text-align: right;\">\n",
       "      <th></th>\n",
       "      <th>VIF values</th>\n",
       "      <th>features</th>\n",
       "    </tr>\n",
       "  </thead>\n",
       "  <tbody>\n",
       "    <tr>\n",
       "      <th>0</th>\n",
       "      <td>1.190063</td>\n",
       "      <td>Gender</td>\n",
       "    </tr>\n",
       "    <tr>\n",
       "      <th>1</th>\n",
       "      <td>1.328805</td>\n",
       "      <td>Married</td>\n",
       "    </tr>\n",
       "    <tr>\n",
       "      <th>2</th>\n",
       "      <td>1.190707</td>\n",
       "      <td>Dependents</td>\n",
       "    </tr>\n",
       "    <tr>\n",
       "      <th>3</th>\n",
       "      <td>1.061029</td>\n",
       "      <td>Education</td>\n",
       "    </tr>\n",
       "    <tr>\n",
       "      <th>4</th>\n",
       "      <td>1.022219</td>\n",
       "      <td>Self_Employed</td>\n",
       "    </tr>\n",
       "    <tr>\n",
       "      <th>5</th>\n",
       "      <td>1.160660</td>\n",
       "      <td>CoapplicantIncome</td>\n",
       "    </tr>\n",
       "    <tr>\n",
       "      <th>6</th>\n",
       "      <td>1.189462</td>\n",
       "      <td>LoanAmount</td>\n",
       "    </tr>\n",
       "    <tr>\n",
       "      <th>7</th>\n",
       "      <td>1.041723</td>\n",
       "      <td>Loan_Amount_Term</td>\n",
       "    </tr>\n",
       "    <tr>\n",
       "      <th>8</th>\n",
       "      <td>1.010148</td>\n",
       "      <td>Credit_History</td>\n",
       "    </tr>\n",
       "    <tr>\n",
       "      <th>9</th>\n",
       "      <td>1.027578</td>\n",
       "      <td>Property_Area</td>\n",
       "    </tr>\n",
       "  </tbody>\n",
       "</table>\n",
       "</div>"
      ],
      "text/plain": [
       "   VIF values           features\n",
       "0    1.190063             Gender\n",
       "1    1.328805            Married\n",
       "2    1.190707         Dependents\n",
       "3    1.061029          Education\n",
       "4    1.022219      Self_Employed\n",
       "5    1.160660  CoapplicantIncome\n",
       "6    1.189462         LoanAmount\n",
       "7    1.041723   Loan_Amount_Term\n",
       "8    1.010148     Credit_History\n",
       "9    1.027578      Property_Area"
      ]
     },
     "execution_count": 45,
     "metadata": {},
     "output_type": "execute_result"
    }
   ],
   "source": [
    "from statsmodels.stats.outliers_influence import variance_inflation_factor\n",
    "\n",
    "vif=pd.DataFrame()\n",
    "vif['VIF values']=[variance_inflation_factor(a.values,i) for i in range(len(a.columns))] \n",
    "\n",
    "vif['features']=a.columns\n",
    "vif"
   ]
  },
  {
   "cell_type": "code",
   "execution_count": 46,
   "id": "be98454d",
   "metadata": {},
   "outputs": [
    {
     "data": {
      "text/plain": [
       "1    413\n",
       "0    189\n",
       "Name: Loan_Status, dtype: int64"
      ]
     },
     "execution_count": 46,
     "metadata": {},
     "output_type": "execute_result"
    }
   ],
   "source": [
    "b.value_counts()\n"
   ]
  },
  {
   "cell_type": "code",
   "execution_count": 47,
   "id": "ee49e8c2",
   "metadata": {},
   "outputs": [],
   "source": [
    "#balancing the label values.\n",
    "from imblearn.over_sampling import SMOTE\n",
    "sampling= SMOTE()\n",
    "\n",
    "a,b=sampling.fit_resample(a,b)"
   ]
  },
  {
   "cell_type": "code",
   "execution_count": 48,
   "id": "053dafbe",
   "metadata": {},
   "outputs": [
    {
     "data": {
      "text/plain": [
       "1    413\n",
       "0    413\n",
       "Name: Loan_Status, dtype: int64"
      ]
     },
     "execution_count": 48,
     "metadata": {},
     "output_type": "execute_result"
    }
   ],
   "source": [
    "b.value_counts()"
   ]
  },
  {
   "cell_type": "code",
   "execution_count": null,
   "id": "ea1fd645",
   "metadata": {},
   "outputs": [],
   "source": []
  },
  {
   "cell_type": "markdown",
   "id": "394f1d8a",
   "metadata": {},
   "source": [
    "# step4: Modelling"
   ]
  },
  {
   "cell_type": "code",
   "execution_count": 49,
   "id": "580ad8d4",
   "metadata": {},
   "outputs": [
    {
     "data": {
      "text/plain": [
       "array([[ 0.48370946, -1.37711328, -0.74101942, ...,  0.25634179,\n",
       "         0.5236421 ,  1.27294815],\n",
       "       [ 0.48370946,  0.74265066,  0.26193743, ...,  0.25634179,\n",
       "         0.5236421 , -1.28904479],\n",
       "       [ 0.48370946,  0.74265066, -0.74101942, ...,  0.25634179,\n",
       "         0.5236421 ,  1.27294815],\n",
       "       ...,\n",
       "       [ 0.48370946,  0.74265066,  2.26785112, ..., -0.70038998,\n",
       "        -1.93397531, -0.00804832],\n",
       "       [ 0.48370946,  0.10727229, -0.74101942, ...,  0.25634179,\n",
       "         0.5236421 , -1.28904479],\n",
       "       [ 0.48370946,  0.74265066,  1.07587736, ...,  0.25634179,\n",
       "         0.5236421 , -1.28904479]])"
      ]
     },
     "execution_count": 49,
     "metadata": {},
     "output_type": "execute_result"
    }
   ],
   "source": [
    "scaler=StandardScaler()\n",
    "\n",
    "x_scaled=scaler.fit_transform(a)\n",
    "x_scaled"
   ]
  },
  {
   "cell_type": "code",
   "execution_count": 50,
   "id": "bda08c21",
   "metadata": {},
   "outputs": [],
   "source": [
    "from sklearn.ensemble import ExtraTreesClassifier, GradientBoostingClassifier,BaggingClassifier\n",
    "from sklearn.neighbors import KNeighborsClassifier\n",
    "from sklearn.tree import DecisionTreeClassifier\n",
    "from sklearn.metrics import accuracy_score,confusion_matrix, classification_report,roc_curve\n",
    "from sklearn.ensemble import RandomForestClassifier\n",
    "from sklearn.svm import SVC\n",
    "from sklearn.model_selection import cross_val_score"
   ]
  },
  {
   "cell_type": "code",
   "execution_count": 51,
   "id": "637b891e",
   "metadata": {},
   "outputs": [
    {
     "name": "stdout",
     "output_type": "stream",
     "text": [
      "The best accuracy is 0.8846153846153846 at random state is 46\n"
     ]
    }
   ],
   "source": [
    "#getting best random state\n",
    "\n",
    "Accu_max=0\n",
    "Rs_max=0\n",
    "for k in range(1,200):\n",
    "    x_train,x_test,y_train,y_test=train_test_split(a,b, test_size=0.22, random_state=k)\n",
    "    \n",
    "    RFC=RandomForestClassifier()\n",
    "    RFC.fit(x_train,y_train)\n",
    "    pred=RFC.predict(x_test)\n",
    "    acc=accuracy_score(y_test, pred)\n",
    "    if acc>Accu_max:\n",
    "        Accu_max= acc\n",
    "        Rs_max=k\n",
    "print('The best accuracy is', Accu_max, 'at random state is', Rs_max)"
   ]
  },
  {
   "cell_type": "code",
   "execution_count": 71,
   "id": "f75e0308",
   "metadata": {},
   "outputs": [],
   "source": [
    "#forming train_test_split\n",
    "x_train,x_test,y_train,y_test=train_test_split(a,b, test_size=0.22, random_state=46)"
   ]
  },
  {
   "cell_type": "code",
   "execution_count": 72,
   "id": "118e4d4c",
   "metadata": {},
   "outputs": [],
   "source": [
    "def metric_score(clf, x_train,x_test,y_train,y_test,train=True):\n",
    "    if train==False:\n",
    "        pred=clf.predict(x_test)\n",
    "        \n",
    "        print(\"\\n================ Test Result ================== \")\n",
    "        print(f\"Accuracy Score: {accuracy_score(y_test,pred)*100:2f}%\")\n",
    "        print('\\n \\n Test Classification Reprt \\n', classification_report(y_test,pred, digits=2))\n",
    "        "
   ]
  },
  {
   "cell_type": "code",
   "execution_count": 73,
   "id": "3eaa35b8",
   "metadata": {},
   "outputs": [
    {
     "name": "stdout",
     "output_type": "stream",
     "text": [
      "\n",
      "================ Test Result ================== \n",
      "Accuracy Score: 83.516484%\n",
      "\n",
      " \n",
      " Test Classification Reprt \n",
      "               precision    recall  f1-score   support\n",
      "\n",
      "           0       0.83      0.83      0.83        88\n",
      "           1       0.84      0.84      0.84        94\n",
      "\n",
      "    accuracy                           0.84       182\n",
      "   macro avg       0.83      0.83      0.83       182\n",
      "weighted avg       0.84      0.84      0.84       182\n",
      "\n"
     ]
    },
    {
     "data": {
      "text/plain": [
       "array([[73, 15],\n",
       "       [15, 79]], dtype=int64)"
      ]
     },
     "execution_count": 73,
     "metadata": {},
     "output_type": "execute_result"
    }
   ],
   "source": [
    "dc=DecisionTreeClassifier()\n",
    "dc.fit(x_train,y_train)\n",
    "metric_score(dc,x_train,x_test,y_train,y_test, train=True)\n",
    "metric_score(dc,x_train,x_test,y_train,y_test, train=False)\n",
    "y_pred=dc.predict(x_test)\n",
    "probs_dc=dc.predict_proba(x_scaled)[:,1]\n",
    "confusion_matrix(y_test,y_pred)"
   ]
  },
  {
   "cell_type": "code",
   "execution_count": 74,
   "id": "13cdaed2",
   "metadata": {},
   "outputs": [
    {
     "name": "stdout",
     "output_type": "stream",
     "text": [
      "\n",
      "================ Test Result ================== \n",
      "Accuracy Score: 77.472527%\n",
      "\n",
      " \n",
      " Test Classification Reprt \n",
      "               precision    recall  f1-score   support\n",
      "\n",
      "           0       0.77      0.76      0.77        88\n",
      "           1       0.78      0.79      0.78        94\n",
      "\n",
      "    accuracy                           0.77       182\n",
      "   macro avg       0.77      0.77      0.77       182\n",
      "weighted avg       0.77      0.77      0.77       182\n",
      "\n"
     ]
    },
    {
     "data": {
      "text/plain": [
       "array([[67, 21],\n",
       "       [20, 74]], dtype=int64)"
      ]
     },
     "execution_count": 74,
     "metadata": {},
     "output_type": "execute_result"
    }
   ],
   "source": [
    "kn=KNeighborsClassifier()\n",
    "kn.fit(x_train,y_train)\n",
    "metric_score(kn,x_train,x_test,y_train,y_test, train=True)\n",
    "metric_score(kn,x_train,x_test,y_train,y_test, train=False)\n",
    "y_pred=kn.predict(x_test)\n",
    "probs_kn=kn.predict_proba(x_scaled)[:,1]\n",
    "confusion_matrix(y_test,y_pred)\n"
   ]
  },
  {
   "cell_type": "code",
   "execution_count": 75,
   "id": "83b29a94",
   "metadata": {},
   "outputs": [
    {
     "name": "stdout",
     "output_type": "stream",
     "text": [
      "\n",
      "================ Test Result ================== \n",
      "Accuracy Score: 87.362637%\n",
      "\n",
      " \n",
      " Test Classification Reprt \n",
      "               precision    recall  f1-score   support\n",
      "\n",
      "           0       0.89      0.84      0.87        88\n",
      "           1       0.86      0.90      0.88        94\n",
      "\n",
      "    accuracy                           0.87       182\n",
      "   macro avg       0.88      0.87      0.87       182\n",
      "weighted avg       0.87      0.87      0.87       182\n",
      "\n"
     ]
    },
    {
     "data": {
      "text/plain": [
       "array([[74, 14],\n",
       "       [ 9, 85]], dtype=int64)"
      ]
     },
     "execution_count": 75,
     "metadata": {},
     "output_type": "execute_result"
    }
   ],
   "source": [
    "rfc=RandomForestClassifier()\n",
    "rfc.fit(x_train,y_train)\n",
    "metric_score(rfc,x_train,x_test,y_train,y_test, train=True)\n",
    "metric_score(rfc,x_train,x_test,y_train,y_test, train=False)\n",
    "y_pred=rfc.predict(x_test)\n",
    "probs_rfc=rfc.predict_proba(x_scaled)[:,1]\n",
    "confusion_matrix(y_test,y_pred)"
   ]
  },
  {
   "cell_type": "code",
   "execution_count": 76,
   "id": "d058e701",
   "metadata": {},
   "outputs": [
    {
     "name": "stdout",
     "output_type": "stream",
     "text": [
      "\n",
      "================ Test Result ================== \n",
      "Accuracy Score: 82.417582%\n",
      "\n",
      " \n",
      " Test Classification Reprt \n",
      "               precision    recall  f1-score   support\n",
      "\n",
      "           0       0.88      0.74      0.80        88\n",
      "           1       0.79      0.90      0.84        94\n",
      "\n",
      "    accuracy                           0.82       182\n",
      "   macro avg       0.83      0.82      0.82       182\n",
      "weighted avg       0.83      0.82      0.82       182\n",
      "\n"
     ]
    },
    {
     "data": {
      "text/plain": [
       "array([[65, 23],\n",
       "       [ 9, 85]], dtype=int64)"
      ]
     },
     "execution_count": 76,
     "metadata": {},
     "output_type": "execute_result"
    }
   ],
   "source": [
    "GB=GradientBoostingClassifier()\n",
    "GB.fit(x_train,y_train)\n",
    "metric_score(GB,x_train,x_test,y_train,y_test, train=True)\n",
    "metric_score(GB,x_train,x_test,y_train,y_test, train=False)\n",
    "y_pred=GB.predict(x_test)\n",
    "probs_GB=GB.predict_proba(x_scaled)[:,1]\n",
    "confusion_matrix(y_test,y_pred)"
   ]
  },
  {
   "cell_type": "code",
   "execution_count": 77,
   "id": "b49bed72",
   "metadata": {},
   "outputs": [
    {
     "name": "stdout",
     "output_type": "stream",
     "text": [
      "\n",
      "================ Test Result ================== \n",
      "Accuracy Score: 82.417582%\n",
      "\n",
      " \n",
      " Test Classification Reprt \n",
      "               precision    recall  f1-score   support\n",
      "\n",
      "           0       0.80      0.84      0.82        88\n",
      "           1       0.84      0.81      0.83        94\n",
      "\n",
      "    accuracy                           0.82       182\n",
      "   macro avg       0.82      0.82      0.82       182\n",
      "weighted avg       0.83      0.82      0.82       182\n",
      "\n"
     ]
    },
    {
     "data": {
      "text/plain": [
       "array([[74, 14],\n",
       "       [18, 76]], dtype=int64)"
      ]
     },
     "execution_count": 77,
     "metadata": {},
     "output_type": "execute_result"
    }
   ],
   "source": [
    "bag=BaggingClassifier()\n",
    "bag.fit(x_train,y_train)\n",
    "metric_score(bag,x_train,x_test,y_train,y_test, train=True)\n",
    "metric_score(bag,x_train,x_test,y_train,y_test, train=False)\n",
    "y_pred=bag.predict(x_test)\n",
    "confusion_matrix(y_test,y_pred)"
   ]
  },
  {
   "cell_type": "code",
   "execution_count": 78,
   "id": "c7d6722c",
   "metadata": {},
   "outputs": [
    {
     "name": "stdout",
     "output_type": "stream",
     "text": [
      "\n",
      "================ Test Result ================== \n",
      "Accuracy Score: 85.714286%\n",
      "\n",
      " \n",
      " Test Classification Reprt \n",
      "               precision    recall  f1-score   support\n",
      "\n",
      "           0       0.83      0.89      0.86        88\n",
      "           1       0.89      0.83      0.86        94\n",
      "\n",
      "    accuracy                           0.86       182\n",
      "   macro avg       0.86      0.86      0.86       182\n",
      "weighted avg       0.86      0.86      0.86       182\n",
      "\n"
     ]
    },
    {
     "data": {
      "text/plain": [
       "array([[78, 10],\n",
       "       [16, 78]], dtype=int64)"
      ]
     },
     "execution_count": 78,
     "metadata": {},
     "output_type": "execute_result"
    }
   ],
   "source": [
    "Etc=ExtraTreesClassifier()\n",
    "Etc.fit(x_train,y_train)\n",
    "metric_score(Etc,x_train,x_test,y_train,y_test, train=True)\n",
    "metric_score(Etc,x_train,x_test,y_train,y_test, train=False)\n",
    "y_pred=Etc.predict(x_test)\n",
    "probs_Etc=Etc.predict_proba(x_scaled)[:,1]\n",
    "confusion_matrix(y_test,y_pred)"
   ]
  },
  {
   "cell_type": "markdown",
   "id": "2b8c05a6",
   "metadata": {},
   "source": [
    "# Crossvalidation"
   ]
  },
  {
   "cell_type": "code",
   "execution_count": 79,
   "id": "72e1b277",
   "metadata": {},
   "outputs": [
    {
     "name": "stdout",
     "output_type": "stream",
     "text": [
      "[0.70481928 0.72727273 0.78181818 0.81818182 0.82424242]\n",
      "0.7712668857247171\n",
      "Difference between Accuracy score and cross validation score is-  -0.23829985275768417\n"
     ]
    }
   ],
   "source": [
    "score=cross_val_score(dc, a,b)\n",
    "print(score)\n",
    "print(score.mean())\n",
    "print(\"Difference between Accuracy score and cross validation score is- \", accuracy_score(y_test, pred)-score.mean() )"
   ]
  },
  {
   "cell_type": "code",
   "execution_count": 80,
   "id": "a5347fae",
   "metadata": {},
   "outputs": [
    {
     "name": "stdout",
     "output_type": "stream",
     "text": [
      "[0.72891566 0.73939394 0.77575758 0.74545455 0.76969697]\n",
      "0.7518437385907266\n",
      "Difference between Accuracy score and cross validation score is-  -0.21887670562369366\n"
     ]
    }
   ],
   "source": [
    "score=cross_val_score(kn, a,b)\n",
    "print(score)\n",
    "print(score.mean())\n",
    "print(\"Difference between Accuracy score and cross validation score is- \", accuracy_score(y_test, pred)-score.mean() )"
   ]
  },
  {
   "cell_type": "code",
   "execution_count": 81,
   "id": "37b0f179",
   "metadata": {},
   "outputs": [
    {
     "name": "stdout",
     "output_type": "stream",
     "text": [
      "[0.69277108 0.76363636 0.83030303 0.76363636 0.82424242]\n",
      "0.7749178532311063\n",
      "Difference between Accuracy score and cross validation score is-  -0.24195082026407333\n"
     ]
    }
   ],
   "source": [
    "score=cross_val_score(GB, a,b)\n",
    "print(score)\n",
    "print(score.mean())\n",
    "print(\"Difference between Accuracy score and cross validation score is- \", accuracy_score(y_test, pred)-score.mean() )"
   ]
  },
  {
   "cell_type": "code",
   "execution_count": 82,
   "id": "c1150aa0",
   "metadata": {},
   "outputs": [
    {
     "name": "stdout",
     "output_type": "stream",
     "text": [
      "[0.78313253 0.81818182 0.86666667 0.85454545 0.87272727]\n",
      "0.8390507484483388\n",
      "Difference between Accuracy score and cross validation score is-  -0.30608371548130586\n"
     ]
    }
   ],
   "source": [
    "score=cross_val_score(Etc, a,b)\n",
    "print(score)\n",
    "print(score.mean())\n",
    "print(\"Difference between Accuracy score and cross validation score is- \", accuracy_score(y_test, pred)-score.mean() )"
   ]
  },
  {
   "cell_type": "code",
   "execution_count": 83,
   "id": "300c0b60",
   "metadata": {},
   "outputs": [
    {
     "name": "stdout",
     "output_type": "stream",
     "text": [
      "[0.74096386 0.74545455 0.82424242 0.83030303 0.80606061]\n",
      "0.7894048922964585\n",
      "Difference between Accuracy score and cross validation score is-  -0.25643785932942553\n"
     ]
    }
   ],
   "source": [
    "score=cross_val_score(bag, a,b)\n",
    "print(score)\n",
    "print(score.mean())\n",
    "print(\"Difference between Accuracy score and cross validation score is- \", accuracy_score(y_test, pred)-score.mean() )"
   ]
  },
  {
   "cell_type": "code",
   "execution_count": 84,
   "id": "1d5dcd0b",
   "metadata": {},
   "outputs": [
    {
     "name": "stdout",
     "output_type": "stream",
     "text": [
      "[0.77710843 0.78181818 0.84242424 0.82424242 0.87272727]\n",
      "0.8196641109894122\n",
      "Difference between Accuracy score and cross validation score is-  -0.2866970780223792\n"
     ]
    }
   ],
   "source": [
    "score=cross_val_score(rfc, a,b)\n",
    "print(score)\n",
    "print(score.mean())\n",
    "print(\"Difference between Accuracy score and cross validation score is- \", accuracy_score(y_test, pred)-score.mean() )"
   ]
  },
  {
   "cell_type": "markdown",
   "id": "bf7d5658",
   "metadata": {},
   "source": [
    "As per the crossvalidation decision tree classifier model has least value so i am chosing that model."
   ]
  },
  {
   "cell_type": "markdown",
   "id": "ca27b120",
   "metadata": {},
   "source": [
    "# Step 5: Hyperparameter tuning"
   ]
  },
  {
   "cell_type": "code",
   "execution_count": 85,
   "id": "860c35e8",
   "metadata": {},
   "outputs": [],
   "source": [
    "#import the Grid search CV\n",
    "grid_param={\n",
    "    'criterion':['gini','entropy'],\n",
    "    'max_depth':range(20,42),\n",
    "    'min_samples_leaf': range(1,4),\n",
    "    'min_samples_split':range(1,5),\n",
    "    'max_leaf_nodes' :range(20,40)\n",
    "}"
   ]
  },
  {
   "cell_type": "code",
   "execution_count": 86,
   "id": "346b3818",
   "metadata": {},
   "outputs": [
    {
     "data": {
      "text/plain": [
       "GridSearchCV(cv=5, estimator=DecisionTreeClassifier(), n_jobs=-1,\n",
       "             param_grid={'criterion': ['gini', 'entropy'],\n",
       "                         'max_depth': range(20, 42),\n",
       "                         'max_leaf_nodes': range(20, 40),\n",
       "                         'min_samples_leaf': range(1, 4),\n",
       "                         'min_samples_split': range(1, 5)})"
      ]
     },
     "execution_count": 86,
     "metadata": {},
     "output_type": "execute_result"
    }
   ],
   "source": [
    "grid_search=GridSearchCV(estimator=dc,\n",
    "                        param_grid=grid_param,\n",
    "                        cv=5,\n",
    "                         n_jobs=-1)\n",
    "grid_search.fit(x_train, y_train)"
   ]
  },
  {
   "cell_type": "code",
   "execution_count": 87,
   "id": "79c10976",
   "metadata": {},
   "outputs": [
    {
     "name": "stdout",
     "output_type": "stream",
     "text": [
      "{'criterion': 'gini', 'max_depth': 23, 'max_leaf_nodes': 32, 'min_samples_leaf': 1, 'min_samples_split': 4}\n"
     ]
    }
   ],
   "source": [
    "best_parameters=grid_search.best_params_\n",
    "print(best_parameters)"
   ]
  },
  {
   "cell_type": "code",
   "execution_count": 169,
   "id": "ecce1249",
   "metadata": {},
   "outputs": [
    {
     "name": "stdout",
     "output_type": "stream",
     "text": [
      "\n",
      "================ Test Result ================== \n",
      "Accuracy Score: 86.263736%\n",
      "\n",
      " \n",
      " Test Classification Reprt \n",
      "               precision    recall  f1-score   support\n",
      "\n",
      "           0       0.85      0.88      0.86        88\n",
      "           1       0.88      0.85      0.86        94\n",
      "\n",
      "    accuracy                           0.86       182\n",
      "   macro avg       0.86      0.86      0.86       182\n",
      "weighted avg       0.86      0.86      0.86       182\n",
      "\n"
     ]
    }
   ],
   "source": [
    "final_model=DecisionTreeClassifier( max_depth= 117, max_leaf_nodes=129, min_samples_leaf= 1, min_samples_split=2)\n",
    "final_model.fit(x_train,y_train)\n",
    "metric_score(final_model,x_train,x_test,y_train,y_test,train=False)"
   ]
  },
  {
   "cell_type": "markdown",
   "id": "8c7b5703",
   "metadata": {},
   "source": [
    "# ROC-Curve"
   ]
  },
  {
   "cell_type": "code",
   "execution_count": 170,
   "id": "a70399c8",
   "metadata": {},
   "outputs": [],
   "source": [
    "from sklearn.metrics import roc_auc_score, auc\n",
    "from sklearn.metrics import roc_curve"
   ]
  },
  {
   "cell_type": "code",
   "execution_count": 181,
   "id": "263c34da",
   "metadata": {},
   "outputs": [
    {
     "data": {
      "image/png": "[encoded data removed]",
      "text/plain": [
       "<Figure size 432x288 with 1 Axes>"
      ]
     },
     "metadata": {
      "needs_background": "light"
     },
     "output_type": "display_data"
    },
    {
     "name": "stdout",
     "output_type": "stream",
     "text": [
      "Auc Score is : \n",
      " 86.3031914893617\n"
     ]
    }
   ],
   "source": [
    "y_pred=final_model.predict(x_test)\n",
    "fpr,tpr,thresholds=roc_curve(y_test,y_pred)\n",
    "roc_auc=auc(fpr,tpr)\n",
    "\n",
    "plt.plot([0,1],[0,1],'h--')\n",
    "plt.plot(fpr,tpr, label=\"Decision Tree classifier ,\" %roc_auc)\n",
    "plt.xlabel('fpr')\n",
    "plt.ylabel('tpr')\n",
    "plt.legend()\n",
    "plt.show()\n",
    "auc_score=roc_auc_score(y_test, final_model.predict(x_test))\n",
    "print('Auc Score is :','\\n', auc_score*100)"
   ]
  },
  {
   "cell_type": "markdown",
   "id": "e5d75fed",
   "metadata": {},
   "source": [
    "# step6: Save the model"
   ]
  },
  {
   "cell_type": "code",
   "execution_count": 183,
   "id": "712af278",
   "metadata": {},
   "outputs": [],
   "source": [
    "#saving my model\n",
    "import pickle\n",
    "\n",
    "filename='Loan Application prediction'\n",
    "pickle.dump(dc, open(filename,'wb'))\n"
   ]
  },
  {
   "cell_type": "code",
   "execution_count": 184,
   "id": "1c233421",
   "metadata": {},
   "outputs": [
    {
     "name": "stdout",
     "output_type": "stream",
     "text": [
      "83.51648351648352\n"
     ]
    }
   ],
   "source": [
    "import pickle\n",
    "loaded_model=pickle.load(open('Loan Application prediction','rb'))\n",
    "result=loaded_model.score(x_test,y_test)\n",
    "print(result*100)"
   ]
  },
  {
   "cell_type": "code",
   "execution_count": 185,
   "id": "17ffd7f5",
   "metadata": {},
   "outputs": [
    {
     "data": {
      "text/html": [
       "<div>\n",
       "<style scoped>\n",
       "    .dataframe tbody tr th:only-of-type {\n",
       "        vertical-align: middle;\n",
       "    }\n",
       "\n",
       "    .dataframe tbody tr th {\n",
       "        vertical-align: top;\n",
       "    }\n",
       "\n",
       "    .dataframe thead th {\n",
       "        text-align: right;\n",
       "    }\n",
       "</style>\n",
       "<table border=\"1\" class=\"dataframe\">\n",
       "  <thead>\n",
       "    <tr style=\"text-align: right;\">\n",
       "      <th></th>\n",
       "      <th>0</th>\n",
       "      <th>1</th>\n",
       "      <th>2</th>\n",
       "      <th>3</th>\n",
       "      <th>4</th>\n",
       "      <th>5</th>\n",
       "      <th>6</th>\n",
       "      <th>7</th>\n",
       "      <th>8</th>\n",
       "      <th>9</th>\n",
       "      <th>...</th>\n",
       "      <th>172</th>\n",
       "      <th>173</th>\n",
       "      <th>174</th>\n",
       "      <th>175</th>\n",
       "      <th>176</th>\n",
       "      <th>177</th>\n",
       "      <th>178</th>\n",
       "      <th>179</th>\n",
       "      <th>180</th>\n",
       "      <th>181</th>\n",
       "    </tr>\n",
       "  </thead>\n",
       "  <tbody>\n",
       "    <tr>\n",
       "      <th>original</th>\n",
       "      <td>1</td>\n",
       "      <td>0</td>\n",
       "      <td>1</td>\n",
       "      <td>1</td>\n",
       "      <td>0</td>\n",
       "      <td>0</td>\n",
       "      <td>0</td>\n",
       "      <td>1</td>\n",
       "      <td>0</td>\n",
       "      <td>1</td>\n",
       "      <td>...</td>\n",
       "      <td>0</td>\n",
       "      <td>1</td>\n",
       "      <td>0</td>\n",
       "      <td>1</td>\n",
       "      <td>1</td>\n",
       "      <td>1</td>\n",
       "      <td>1</td>\n",
       "      <td>0</td>\n",
       "      <td>0</td>\n",
       "      <td>1</td>\n",
       "    </tr>\n",
       "    <tr>\n",
       "      <th>predicted</th>\n",
       "      <td>1</td>\n",
       "      <td>0</td>\n",
       "      <td>1</td>\n",
       "      <td>1</td>\n",
       "      <td>1</td>\n",
       "      <td>0</td>\n",
       "      <td>0</td>\n",
       "      <td>1</td>\n",
       "      <td>0</td>\n",
       "      <td>1</td>\n",
       "      <td>...</td>\n",
       "      <td>0</td>\n",
       "      <td>1</td>\n",
       "      <td>0</td>\n",
       "      <td>1</td>\n",
       "      <td>1</td>\n",
       "      <td>1</td>\n",
       "      <td>1</td>\n",
       "      <td>0</td>\n",
       "      <td>0</td>\n",
       "      <td>1</td>\n",
       "    </tr>\n",
       "  </tbody>\n",
       "</table>\n",
       "<p>2 rows × 182 columns</p>\n",
       "</div>"
      ],
      "text/plain": [
       "           0    1    2    3    4    5    6    7    8    9    ...  172  173  \\\n",
       "original     1    0    1    1    0    0    0    1    0    1  ...    0    1   \n",
       "predicted    1    0    1    1    1    0    0    1    0    1  ...    0    1   \n",
       "\n",
       "           174  175  176  177  178  179  180  181  \n",
       "original     0    1    1    1    1    0    0    1  \n",
       "predicted    0    1    1    1    1    0    0    1  \n",
       "\n",
       "[2 rows x 182 columns]"
      ]
     },
     "execution_count": 185,
     "metadata": {},
     "output_type": "execute_result"
    }
   ],
   "source": [
    "conclusion=pd.DataFrame([loaded_model.predict(x_test)[:],y_test[:]],index=['original','predicted'])\n",
    "conclusion"
   ]
  },
  {
   "cell_type": "markdown",
   "id": "955b8777",
   "metadata": {},
   "source": [
    "Finally, Accuracy_score=83.51% and AUC score is 86.30%"
   ]
  },
  {
   "cell_type": "code",
   "execution_count": null,
   "id": "0e55ecf3",
   "metadata": {},
   "outputs": [],
   "source": []
  }
 ],
 "metadata": {
  "kernelspec": {
   "display_name": "Python 3 (ipykernel)",
   "language": "python",
   "name": "python3"
  },
  "language_info": {
   "codemirror_mode": {
    "name": "ipython",
    "version": 3
   },
   "file_extension": ".py",
   "mimetype": "text/x-python",
   "name": "python",
   "nbconvert_exporter": "python",
   "pygments_lexer": "ipython3",
   "version": "3.9.12"
  }
 },
 "nbformat": 4,
 "nbformat_minor": 5
}
